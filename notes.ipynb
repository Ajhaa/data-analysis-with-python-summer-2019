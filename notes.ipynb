{
 "cells": [
  {
   "cell_type": "markdown",
   "metadata": {},
   "source": [
    "# Tehtäviä\n",
    "- Mitkä metodit ovat yhteisiä dataframelle ja seriesille, ja mitkä ovat erillisiä.\n",
    "- Iän ja pituuden regressointi\n",
    "- Tulosta tiedostoon taulukkomuotoista dataa, jossa esim. sarakkeet x, x**2 ja x**3, tai kertotaulut"
   ]
  }
 ],
 "metadata": {
  "kernelspec": {
   "display_name": "Python 3",
   "language": "python",
   "name": "python3"
  },
  "language_info": {
   "codemirror_mode": {
    "name": "ipython",
    "version": 3
   },
   "file_extension": ".py",
   "mimetype": "text/x-python",
   "name": "python",
   "nbconvert_exporter": "python",
   "pygments_lexer": "ipython3",
   "version": "3.6.5"
  }
 },
 "nbformat": 4,
 "nbformat_minor": 2
}
