{
 "cells": [
  {
   "cell_type": "markdown",
   "metadata": {},
   "source": [
    "# Otsake\n",
    "\n",
    "- Python\n",
    "    - Basic concepts\n",
    "        - Basic input and output\n",
    "        - Data types and variables\n",
    "        - Expressions\n",
    "        - Flow control and functions\n",
    "        - Data structures: lists, tuples, dictionaries, sets\n",
    "        - List, dictionary and generator expressions\n",
    "    - Objects and classes\n",
    "    - Exceptions\n",
    "    - Modules\n",
    "    - String handling\n",
    "    - Regular expressions\n",
    "    - File processing\n",
    "- Numpy\n",
    "    - Creation of arrays\n",
    "    - Array types and attributes\n",
    "    - Indexing, slicing and reshaping\n",
    "    - Array concatenation and splitting\n",
    "    - Fast computation using universal functions\n",
    "    - Aggregations: max, min, sum, mean, standard deviation...\n",
    "    - Broadcasting\n",
    "    - Comparisons and masking\n",
    "    - Fancy indexing\n",
    "    - Sorting arrays\n",
    "- Linalg (SciPy)\n",
    "- Pandas\n",
    "- SciKit Learn\n",
    "- Projects"
   ]
  }
 ],
 "metadata": {
  "kernelspec": {
   "display_name": "Python 3",
   "language": "python",
   "name": "python3"
  },
  "language_info": {
   "codemirror_mode": {
    "name": "ipython",
    "version": 3
   },
   "file_extension": ".py",
   "mimetype": "text/x-python",
   "name": "python",
   "nbconvert_exporter": "python",
   "pygments_lexer": "ipython3",
   "version": "3.5.2"
  }
 },
 "nbformat": 4,
 "nbformat_minor": 1
}
