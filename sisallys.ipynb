{
 "metadata": {
  "name": "",
  "signature": "sha256:62534e5f69cfd4cabc9d2833ba68aadae440da25f86cf8f4ce8d1acbf167cb05"
 },
 "nbformat": 3,
 "nbformat_minor": 0,
 "worksheets": [
  {
   "cells": [
    {
     "cell_type": "markdown",
     "metadata": {},
     "source": [
      "# Otsake\n",
      "\n",
      "- Python\n",
      "    - Basic concepts\n",
      "        - Basic input and output\n",
      "        - Data types and variables\n",
      "        - Expressions\n",
      "        - Flow control and functions\n",
      "        - Data structures: lists, tuples, dictionaries, sets\n",
      "        - List, dictionary and generator expressions\n",
      "    - Objects and classes\n",
      "    - Exceptions\n",
      "    - Modules\n",
      "    - String handling\n",
      "    - Regular expressions\n",
      "    - File processing\n",
      "- Numpy\n",
      "    - Creation of arrays\n",
      "    - Array types and attributes\n",
      "    - Indexing, slicing and reshaping\n",
      "    - Array concatenation and splitting\n",
      "    - Fast computation using universal functions\n",
      "    - Aggregations: max, min, sum, mean, standard deviation...\n",
      "    - Broadcasting\n",
      "    - Comparisons and masking\n",
      "    - Fancy indexing\n",
      "    - Sorting arrays\n",
      "- Linalg (SciPy)\n",
      "- Pandas\n",
      "- SciKit Learn\n",
      "- Projects"
     ]
    }
   ],
   "metadata": {}
  }
 ]
}