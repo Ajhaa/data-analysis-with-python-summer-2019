{
 "metadata": {
  "name": "",
  "signature": "sha256:9069a06f455d574875c355b61057b2934dd01f5465b4ba7b7f6e0866c074bd98"
 },
 "nbformat": 3,
 "nbformat_minor": 0,
 "worksheets": [
  {
   "cells": [
    {
     "cell_type": "markdown",
     "metadata": {},
     "source": [
      "# Otsake\n",
      "\n",
      "- Python\n",
      "    - Basic concepts\n",
      "        - Basic input and output\n",
      "        - Data types and variables\n",
      "        - Expressions\n",
      "        - Flow control and functions\n",
      "        - Data structures: lists, tuples, dictionaries, sets\n",
      "        - List, dictionary and generator expressions\n",
      "    - Objects and classes\n",
      "    - Exceptions\n",
      "    - Modules\n",
      "    - String handling\n",
      "    - Regular expressions\n",
      "    - File processing\n",
      "- Numpy\n",
      "    - Creation of arrays\n",
      "    - Array types and attributes\n",
      "    - Indexing, slicing and reshaping\n",
      "        - a list as an index returns a 2d array, single index a 1d array\n",
      "    - Array concatenation and splitting\n",
      "    - Fast computation using universal functions\n",
      "    - Aggregations: max, min, sum, mean, standard deviation...\n",
      "    - Broadcasting\n",
      "    - Comparisons and masking\n",
      "    - Fancy indexing\n",
      "    - Sorting arrays\n",
      "    - Matrix operations\n",
      "- Linalg (SciPy)\n",
      "- Pandas\n",
      "    - Creation of series\n",
      "    - Indexing rows of series\n",
      "    - Creation of dataframes\n",
      "    - Accessing columns of a dataframe. Results in\n",
      "        - a series\n",
      "        - a dataframe with n columns (n=0,1,2,...)\n",
      "    - Other indexing and data selection\n",
      "    - Missing data\n",
      "    - Datasettien katenointi\n",
      "    - Aggregaatiot ja ryhmittely\n",
      "    - Merge\n",
      "        \n",
      "- SciKit Learn\n",
      "- Projects"
     ]
    },
    {
     "cell_type": "markdown",
     "metadata": {},
     "source": [
      "# Teht\u00e4vi\u00e4\n",
      "- Mitk\u00e4 metodit ovat yhteisi\u00e4 dataframelle ja seriesille, ja mitk\u00e4 ovat erillisi\u00e4."
     ]
    }
   ],
   "metadata": {}
  }
 ]
}