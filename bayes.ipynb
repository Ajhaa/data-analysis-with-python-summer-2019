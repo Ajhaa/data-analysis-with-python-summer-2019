{
 "cells": [
  {
   "cell_type": "markdown",
   "metadata": {},
   "source": [
    "# Naive Bayes classification"
   ]
  },
  {
   "cell_type": "code",
   "execution_count": 79,
   "metadata": {},
   "outputs": [
    {
     "name": "stdout",
     "output_type": "stream",
     "text": [
      "[[0.16 0.  ]\n",
      " [0.   4.  ]]\n"
     ]
    },
    {
     "data": {
      "image/png": "[encoded data removed]",
      "text/plain": [
       "<Figure size 432x288 with 1 Axes>"
      ]
     },
     "metadata": {},
     "output_type": "display_data"
    }
   ],
   "source": [
    "%matplotlib inline\n",
    "\n",
    "import numpy as np\n",
    "import matplotlib.pyplot as plt\n",
    "from math import cos, sin, pi\n",
    "\n",
    "def rot(a):\n",
    "    return np.array([[cos(a), -sin(a)], [sin(a),cos(a)]])\n",
    "\n",
    "def get_cov(a, b, angle):\n",
    "    T=np.matmul(rot(angle), np.array([[a,0],[0,b]]))\n",
    "    return np.matmul(T, T.T)  \n",
    "\n",
    "#Z=np.random.rand(100,100)\n",
    "mean1 = [0,0]\n",
    "cov1 = get_cov(0.4, 2, angle=pi/4)\n",
    "mean2 = [10,10]\n",
    "cov2 = get_cov(0.4, 2, angle=3*pi/4)\n",
    "mean3 = [0,10]\n",
    "#cov3 = [[1,0], [0,0.2]]\n",
    "cov3 = get_cov(0.4, 2, angle=0)\n",
    "print(cov3)\n",
    "x1, y1 = np.random.multivariate_normal(mean1, cov1, 100000).T\n",
    "x2, y2 = np.random.multivariate_normal(mean2, cov2, 100000).T\n",
    "x3, y3 = np.random.multivariate_normal(mean3, cov3, 100000).T\n",
    "x=np.hstack([x1,x2, x3])\n",
    "y=np.hstack([y1,y2, y3])\n",
    "#plt.imshow(Z)\n",
    "plt.hist2d(x, y, bins=100, cmap='Blues');"
   ]
  }
 ],
 "metadata": {
  "kernelspec": {
   "display_name": "Python 3",
   "language": "python",
   "name": "python3"
  },
  "language_info": {
   "codemirror_mode": {
    "name": "ipython",
    "version": 3
   },
   "file_extension": ".py",
   "mimetype": "text/x-python",
   "name": "python",
   "nbconvert_exporter": "python",
   "pygments_lexer": "ipython3",
   "version": "3.6.5"
  }
 },
 "nbformat": 4,
 "nbformat_minor": 2
}
