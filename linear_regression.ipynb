{
 "cells": [
  {
   "cell_type": "markdown",
   "metadata": {},
   "source": [
    "# Linear regression\n",
    "Regression analysis tries to explain relationships between variables. One of these variables, called dependend variable, is what we want to \"explain\" using one or more *explanatory variables*. In linear regression we assume that the dependent variable can be, approximately, expressed as a linear combination of the explanatory variables. As a simple example, we might have dependent variable height and an explanatory variable age. The age of a person can quite well explain the height of a person, and this relationship is approximately linear for kids (ages between 1 and 16). Another way of thinking about regression is fitting a curve to the observed data points. If we have only one explanatory variable, then this is easy to visualize.\n",
    "\n",
    "We can apply the linear regression easily with scikit-learn package. Let's go through some examples."
   ]
  },
  {
   "cell_type": "markdown",
   "metadata": {},
   "source": [
    "First make the usual standard imports."
   ]
  },
  {
   "cell_type": "code",
   "execution_count": 1,
   "metadata": {},
   "outputs": [],
   "source": [
    "import numpy as np\n",
    "import matplotlib.pyplot as plt\n",
    "import sklearn   # This imports the scikit-learn library"
   ]
  },
  {
   "cell_type": "markdown",
   "metadata": {},
   "source": [
    "Then we create some data with axpproximately the relationship $y=2*x+1$, with normally distributed errors."
   ]
  },
  {
   "cell_type": "code",
   "execution_count": 2,
   "metadata": {},
   "outputs": [
    {
     "name": "stdout",
     "output_type": "stream",
     "text": [
      "[ 0.          0.52631579  1.05263158  1.57894737  2.10526316  2.63157895\n",
      "  3.15789474  3.68421053  4.21052632  4.73684211  5.26315789  5.78947368\n",
      "  6.31578947  6.84210526  7.36842105  7.89473684  8.42105263  8.94736842\n",
      "  9.47368421 10.        ]\n",
      "[ 2.76405235  2.45278879  4.08400114  6.39878794  7.07808431  5.28588001\n",
      "  8.26587789  8.21706384  9.31783378 10.88428271 11.67035936 14.03322088\n",
      " 14.39261667 14.80588554 16.18070534 17.12314801 19.33618434 18.68957858\n",
      " 20.26043612 20.14590426]\n"
     ]
    }
   ],
   "source": [
    "np.random.seed(0)\n",
    "n=20   # Number of data points\n",
    "x=np.linspace(0, 10, n)\n",
    "y=x*2 + 1 + 1*np.random.randn(n) # Standard deviation 1\n",
    "print(x)\n",
    "print(y)"
   ]
  },
  {
   "cell_type": "markdown",
   "metadata": {},
   "source": [
    "Now we can fit a line through the data points (x, y):"
   ]
  },
  {
   "cell_type": "code",
   "execution_count": 3,
   "metadata": {},
   "outputs": [
    {
     "data": {
      "image/png": "[encoded data removed]",
      "text/plain": [
       "<Figure size 432x288 with 1 Axes>"
      ]
     },
     "metadata": {},
     "output_type": "display_data"
    }
   ],
   "source": [
    "plt.plot(x,y, 'o')\n",
    "from sklearn.linear_model import LinearRegression\n",
    "model=LinearRegression(fit_intercept=True)\n",
    "model.fit(x[:,np.newaxis], y)\n",
    "xfit=np.linspace(0,10,100)\n",
    "yfit=model.predict(xfit[:, np.newaxis])\n",
    "plt.plot(xfit,yfit)\n",
    "# The following will draw as many line segments as there are columns in matrices x and y\n",
    "plt.plot(np.vstack([x,x]), np.vstack([y, model.predict(x[:, np.newaxis])]), color=\"red\");"
   ]
  },
  {
   "cell_type": "markdown",
   "metadata": {},
   "source": [
    "The linear regression tries to minimize the sum of squared errors $\\sum_i (y[i] - \\hat{y}[i])^2$; this is the sum of the lengths of the red line segments in the above plot."
   ]
  },
  {
   "cell_type": "code",
   "execution_count": 4,
   "metadata": {},
   "outputs": [
    {
     "name": "stdout",
     "output_type": "stream",
     "text": [
      "Parameters: [1.88627741] 2.1379475205341283\n",
      "Coefficient: 1.8862774144823018\n",
      "Intercept: 2.1379475205341283\n"
     ]
    }
   ],
   "source": [
    "print(\"Parameters:\", model.coef_, model.intercept_)\n",
    "print(\"Coefficient:\", model.coef_[0])\n",
    "print(\"Intercept:\", model.intercept_)"
   ]
  },
  {
   "cell_type": "markdown",
   "metadata": {},
   "source": [
    "In this case, the coefficient is the slope of the fitted line, and the intercept is the point where the fitted line intersects with the y-axis.\n",
    "\n",
    "Note that in scikit-learn the attributes of the model that store the learned parameters have always an underscore at the end of the name. This applies to all algorithms in sklearn, not only the linear regression. This naming style allows one to easily spot the learned model parameters from other attributes."
   ]
  },
  {
   "cell_type": "markdown",
   "metadata": {},
   "source": [
    "The parameters estimated by the regression algorithm were quite close to the parameters that generated the data: coefficient 2 and intercept 1. Try experimenting with the number of data points and/or the standard deviation, to see if you can improve the estimated parameters."
   ]
  },
  {
   "cell_type": "markdown",
   "metadata": {},
   "source": [
    "## Multiple features"
   ]
  },
  {
   "cell_type": "markdown",
   "metadata": {},
   "source": [
    "The previous example had only one explanatory variable. Sometimes this is called a simple linear regression. The next example illustrates a more complex regression with multiple explanatory variables."
   ]
  },
  {
   "cell_type": "code",
   "execution_count": 5,
   "metadata": {},
   "outputs": [],
   "source": [
    "x1=np.array([1,2,3])   # The three explanatory variables have values 1, 2, and 3, respectively\n",
    "x2=np.array([4,5,6])   # Another example of values of explanatory variables\n",
    "x3=np.array([7,8,10])   # ...\n",
    "y=np.array([15,39,66]) + np.random.randn(3)   # For values 1,2, and 3 of explanatory variables, the value y=4 was observed, and so on."
   ]
  },
  {
   "cell_type": "markdown",
   "metadata": {},
   "source": [
    "Let's try to fit a linear model to these points:"
   ]
  },
  {
   "cell_type": "code",
   "execution_count": 6,
   "metadata": {},
   "outputs": [
    {
     "data": {
      "text/plain": [
       "(array([5.69493795e+00, 3.36972233e+00, 4.20919214e-03]), 0.0)"
      ]
     },
     "execution_count": 6,
     "metadata": {},
     "output_type": "execute_result"
    }
   ],
   "source": [
    "model2=LinearRegression(fit_intercept=False)\n",
    "x=np.vstack([x1,x2,x3])\n",
    "model2.fit(x, y)\n",
    "model2.coef_, model2.intercept_"
   ]
  },
  {
   "cell_type": "code",
   "execution_count": 7,
   "metadata": {},
   "outputs": [
    {
     "name": "stdout",
     "output_type": "stream",
     "text": [
      "x:\n",
      " [[ 1  2  3]\n",
      " [ 4  5  6]\n",
      " [ 7  8 10]]\n",
      "b:\n",
      " [[5.69493795e+00]\n",
      " [3.36972233e+00]\n",
      " [4.20919214e-03]]\n",
      "y:\n",
      " [12.44701018 39.6536186  66.8644362 ]\n"
     ]
    },
    {
     "data": {
      "text/plain": [
       "array([[12.44701018],\n",
       "       [39.6536186 ],\n",
       "       [66.8644362 ]])"
      ]
     },
     "execution_count": 7,
     "metadata": {},
     "output_type": "execute_result"
    }
   ],
   "source": [
    "b=model2.coef_[:, np.newaxis]\n",
    "print(\"x:\\n\", x)\n",
    "print(\"b:\\n\", b)\n",
    "print(\"y:\\n\", y)\n",
    "np.matmul(x, b)"
   ]
  },
  {
   "cell_type": "markdown",
   "metadata": {},
   "source": [
    "## Polynomial regression\n",
    "It may perhaps come as a surprise that one can fit a polynomial curve to data points\n",
    "using linear regression. The trick is to add new explanatory variables to the model.\n",
    "Below we have a single feature x with associated y values given by third degree polynomial,\n",
    "with some (gaussian) noise added. It is clearn from the plot that we cannot explain the data well with a linear function. We add two new features: $x^2$ and $x^3$. Now the model has three explanatory variables, $x, x^2$ and $x^3$. The linear regression will find the coefficients for these variables."
   ]
  },
  {
   "cell_type": "code",
   "execution_count": 8,
   "metadata": {},
   "outputs": [
    {
     "data": {
      "text/plain": [
       "(array([-36.65414588, -20.17228669,   0.15359003]), -167.16046606184318)"
      ]
     },
     "execution_count": 8,
     "metadata": {},
     "output_type": "execute_result"
    },
    {
     "data": {
      "image/png": "[encoded data removed]",
      "text/plain": [
       "<Figure size 432x288 with 1 Axes>"
      ]
     },
     "metadata": {},
     "output_type": "display_data"
    }
   ],
   "source": [
    "import matplotlib.pyplot as plt\n",
    "x=np.linspace(-50,150,50)\n",
    "y=0.15*x**3 - 20*x**2 + 5*x - 4 + 5000*np.random.randn(50)\n",
    "plt.scatter(x, y)\n",
    "model_linear=LinearRegression(fit_intercept=True)\n",
    "model_squared=LinearRegression(fit_intercept=True)\n",
    "model_cubic=LinearRegression(fit_intercept=True)\n",
    "x2=x**2\n",
    "x3=x**3\n",
    "model_linear.fit(np.vstack([x]).T, y)\n",
    "model_squared.fit(np.vstack([x,x2]).T, y)\n",
    "model_cubic.fit(np.vstack([x,x2,x3]).T, y)\n",
    "xf=np.linspace(-50,150, 50)\n",
    "yf_linear=model_linear.predict(np.vstack([x]).T)\n",
    "yf_squared=model_squared.predict(np.vstack([x,x2]).T)\n",
    "yf_cubic=model_cubic.predict(np.vstack([x,x2,x3]).T)\n",
    "plt.plot(xf,yf_linear)\n",
    "plt.plot(xf,yf_squared)\n",
    "plt.plot(xf,yf_cubic)\n",
    "\n",
    "model_cubic.coef_, model_cubic.intercept_"
   ]
  },
  {
   "cell_type": "markdown",
   "metadata": {},
   "source": [
    "Linear and squared are not enough to explain the data, but the linear regression manages to fit quite well a polynomial curve to the data points, when cubed variables are included!"
   ]
  },
  {
   "cell_type": "markdown",
   "metadata": {},
   "source": [
    "## Ridge regression"
   ]
  },
  {
   "cell_type": "markdown",
   "metadata": {},
   "source": [
    "# Regression exercises"
   ]
  },
  {
   "cell_type": "markdown",
   "metadata": {},
   "source": [
    "#### <div class=\"alert alert-info\">Exercise 1 (linear regression)</div>\n",
    "Write a function `fit line` that gets one dimensional arrays `x` and `y` as parameters. The function should return the tuple `(slope, intercept)` of the fitted line. Write a main program that tests the `fit_line` function with some example arrays. The main function should produce output in the following form:\n",
    "\n",
    "Slope: 1.0<br/>\n",
    "Intercept: 1.16666666667\n",
    "\n",
    "Part 2.\n",
    "\n",
    "Modify your program to plot the fitted line using matplotlib, in addition to the textual output. Plot also the original data points.\n"
   ]
  },
  {
   "cell_type": "markdown",
   "metadata": {},
   "source": [
    "#### <div class=\"alert alert-info\">Exercise 2 (mystery data)</div>\n",
    "Read the tab separated file mystery_data.tsv. Its first five columns define the features, and the last column is the response. Use scikit-learns's LinearRegression to fit this data. Implement function `mystery_data` that reads this file and learns and returns the regression coefficients for the five features. You don't have to fit the intercept. The main method will print output in the following form:\n",
    "\n",
    "Coefficient of X1 is ...<br/>\n",
    "Coefficient of X2 is ...<br/>\n",
    "Coefficient of X3 is ...<br/>\n",
    "Coefficient of X4 is ...<br/>\n",
    "Coefficient of X5 is ...\n",
    "\n",
    "Which features you think are needed to explain the response Y?"
   ]
  },
  {
   "cell_type": "markdown",
   "metadata": {},
   "source": [
    "#### <div class=\"alert alert-info\">Exercise 3 (coefficient of determination)</div>\n",
    "Using the same data as in the previous exercise, instead of printing the regression coefficients, print the coefficient of determination. The coefficient of determination, denoted by R2, tells how well the linear regression fits the data. The maximum value of the coefficient of determination is 1. That means the best possible fit.\n",
    "\n",
    "Part 1.\n",
    "\n",
    "Using all the features (X1 to X5), fit the data using a linear regression. Get the coefficient of determination using the `score` method of the `LinearRegression` class. Write a function `coefficient_of_determination` to do all this. It should return a list containing the R2-score as the only value.\n",
    "\n",
    "Part 2.\n",
    "\n",
    "Extend your function so that it also returns R2-scores related to linear regression with each single feature in turn. The `coefficient_of_determination` (https://en.wikipedia.org/wiki/Coefficient_of_determination) function should therefore return a list with six R2-scores. To achieve this, your function should call both the fit method and the score method six times. \n",
    "\n",
    "The output from the main method should look like this:\n",
    "R2-score with feature(s) X: ...\n",
    "R2-score with feature(s) X1: ...\n",
    "R2-score with feature(s) X2: ...\n",
    "R2-score with feature(s) X3: ...\n",
    "R2-score with feature(s) X4: ...\n",
    "R2-score with feature(s) X5: ...\n",
    "\n",
    "How small can the R2-score be? Experiment both with fitting the intercept and without fitting the intercept."
   ]
  },
  {
   "cell_type": "markdown",
   "metadata": {},
   "source": [
    "#### <div class=\"alert alert-info\">Exercise 4 ()</div>"
   ]
  }
 ],
 "metadata": {
  "kernelspec": {
   "display_name": "Python 3",
   "language": "python",
   "name": "python3"
  },
  "language_info": {
   "codemirror_mode": {
    "name": "ipython",
    "version": 3
   },
   "file_extension": ".py",
   "mimetype": "text/x-python",
   "name": "python",
   "nbconvert_exporter": "python",
   "pygments_lexer": "ipython3",
   "version": "3.6.5"
  }
 },
 "nbformat": 4,
 "nbformat_minor": 2
}
