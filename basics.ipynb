{
 "cells": [
  {
   "cell_type": "markdown",
   "metadata": {},
   "source": [
    "# Python"
   ]
  },
  {
   "cell_type": "markdown",
   "metadata": {},
   "source": [
    "## Basic concepts"
   ]
  },
  {
   "cell_type": "markdown",
   "metadata": {},
   "source": [
    "### Basic input and output"
   ]
  },
  {
   "cell_type": "markdown",
   "metadata": {},
   "source": [
    "The traditional \"Hello, world\" program is very simple in Python. You can run the program by selecting the cell by mouse and pressing control-enter on keyboard. Try editing the string in the quotes and rerunning the program."
   ]
  },
  {
   "cell_type": "code",
   "execution_count": 179,
   "metadata": {},
   "outputs": [
    {
     "name": "stdout",
     "output_type": "stream",
     "text": [
      "Hello world!\n"
     ]
    }
   ],
   "source": [
    "print(\"Hello world!\")"
   ]
  },
  {
   "cell_type": "markdown",
   "metadata": {},
   "source": [
    "Multiple strings can be printed. By default, they are concatenated with a space:"
   ]
  },
  {
   "cell_type": "code",
   "execution_count": 180,
   "metadata": {},
   "outputs": [
    {
     "name": "stdout",
     "output_type": "stream",
     "text": [
      "Hello, John! How are you?\n"
     ]
    }
   ],
   "source": [
    "print(\"Hello,\", \"John!\", \"How are you?\")"
   ]
  },
  {
   "cell_type": "markdown",
   "metadata": {},
   "source": [
    "In the print function, numerical expression are first evaluated and then automatically converted to strings. Subsequently the strings are concatenated with spaces:"
   ]
  },
  {
   "cell_type": "code",
   "execution_count": 181,
   "metadata": {},
   "outputs": [
    {
     "name": "stdout",
     "output_type": "stream",
     "text": [
      "1 plus 2 equals 3\n"
     ]
    }
   ],
   "source": [
    "print(1, \"plus\", 2, \"equals\", 1+2)"
   ]
  },
  {
   "cell_type": "markdown",
   "metadata": {},
   "source": [
    "Reading textual input from the user can be achieved with the input function. The input function is given a string parameter, which is printed and prompts the user to give input. In the example below, the string entered by the user is stored the variable `name`."
   ]
  },
  {
   "cell_type": "code",
   "execution_count": 182,
   "metadata": {
    "scrolled": true
   },
   "outputs": [
    {
     "name": "stdout",
     "output_type": "stream",
     "text": [
      "Give me your name: Jarkko\n",
      "Hello, Jarkko\n"
     ]
    }
   ],
   "source": [
    "name=input(\"Give me your name: \")\n",
    "print(\"Hello,\", name)"
   ]
  },
  {
   "cell_type": "markdown",
   "metadata": {},
   "source": [
    "### Indentation"
   ]
  },
  {
   "cell_type": "markdown",
   "metadata": {},
   "source": [
    "Repetition is possible with the for loop. Note that the body of for loop is indented whith a tabulator or four spaces.\n",
    "Unlike in some other languages, braces are not needed to denote the body of the loop. When the indentation stops the body of the loop ends."
   ]
  },
  {
   "cell_type": "code",
   "execution_count": 183,
   "metadata": {},
   "outputs": [
    {
     "name": "stdout",
     "output_type": "stream",
     "text": [
      "Hello\n",
      "Hello\n",
      "Hello\n",
      "Bye!\n"
     ]
    }
   ],
   "source": [
    "for i in range(3):\n",
    "    print(\"Hello\")\n",
    "print(\"Bye!\")"
   ]
  },
  {
   "cell_type": "markdown",
   "metadata": {},
   "source": [
    "Indentation applies to other compound statements as well, such as bodies of functions, different branches of an if statement, and while loops. We shall see examples of these later."
   ]
  },
  {
   "cell_type": "markdown",
   "metadata": {},
   "source": [
    "The range(3) expression above actually results with the sequence of integers 0, 1, and 2. So, the range is a half-open interval with the end point excluded from the range. In general, expression range(n) gives integers 0, 1, 2, ..., n-1. Modify the above program to make it also print the value of variable i at each iteration. Rerun the code with control-enter."
   ]
  },
  {
   "cell_type": "markdown",
   "metadata": {},
   "source": [
    "#### <div class=\"alert alert-info\"> Exercise 1 (hello world)</div>\n",
    "Fill in the missing piece in the solution stub to make it print the following:\n",
    "\n",
    "`Hello, world!`\n",
    "\n",
    "Make sure you use correct indenting."
   ]
  },
  {
   "cell_type": "markdown",
   "metadata": {},
   "source": [
    "#### <div class=\"alert alert-info\"> Exercise 2 (compliment)</div>\n",
    "Fill in the stub solution to make the program work as follows. The program should ask the user for an input, and the print an answer as the examples below show. The string the user entered is shown below in red.\n",
    "\n",
    "What country are you from? <font color='red'>Sweden</font>  \n",
    "I have heard that Sweden is a beautiful country.\n",
    "\n",
    "What country are you from? <font color='red'>Chile</font>  \n",
    "I have heard that Chile is a beautiful country."
   ]
  },
  {
   "cell_type": "markdown",
   "metadata": {},
   "source": [
    "#### <div class=\"alert alert-info\">Exercise 3 (multiplication)</div> \n",
    "Make a program that gives the following output. You must use a for loop in your solution.\n",
    "\n",
    "```\n",
    "4 multiplied by 0 is 0\n",
    "4 multiplied by 1 is 4\n",
    "4 multiplied by 2 is 8\n",
    "4 multiplied by 3 is 12\n",
    "4 multiplied by 4 is 16\n",
    "4 multiplied by 5 is 20\n",
    "4 multiplied by 6 is 24\n",
    "4 multiplied by 7 is 28\n",
    "4 multiplied by 8 is 32\n",
    "4 multiplied by 9 is 36\n",
    "4 multiplied by 10 is 40\n",
    "```"
   ]
  },
  {
   "cell_type": "markdown",
   "metadata": {},
   "source": [
    "### Variables and data types\n",
    "\n",
    "We saw already earlier that assigning a value to variable is very simple:"
   ]
  },
  {
   "cell_type": "code",
   "execution_count": 184,
   "metadata": {},
   "outputs": [
    {
     "name": "stdout",
     "output_type": "stream",
     "text": [
      "1\n"
     ]
    }
   ],
   "source": [
    "a=1\n",
    "print(a)"
   ]
  },
  {
   "cell_type": "markdown",
   "metadata": {},
   "source": [
    "Note that we did not need to introduce the variable a in any way. No type was given for the variable. Python automatically detected that the type of a must be int. We can query the type of a variable with the builtin function type:"
   ]
  },
  {
   "cell_type": "code",
   "execution_count": 185,
   "metadata": {},
   "outputs": [
    {
     "data": {
      "text/plain": [
       "int"
      ]
     },
     "execution_count": 185,
     "metadata": {},
     "output_type": "execute_result"
    }
   ],
   "source": [
    "type(a)"
   ]
  },
  {
   "cell_type": "markdown",
   "metadata": {},
   "source": [
    "Note also that the type of a variable is not fixed:"
   ]
  },
  {
   "cell_type": "code",
   "execution_count": 186,
   "metadata": {},
   "outputs": [
    {
     "data": {
      "text/plain": [
       "str"
      ]
     },
     "execution_count": 186,
     "metadata": {},
     "output_type": "execute_result"
    }
   ],
   "source": [
    "a=\"some text\"\n",
    "type(a)"
   ]
  },
  {
   "cell_type": "markdown",
   "metadata": {},
   "source": [
    "In Python the type of a variable is not attached to the name of the variable, like in C for instance, but instead with the actual value. This is called dynamic typing."
   ]
  },
  {
   "attachments": {
    "typing.svg": {
     "image/svg+xml": [
      "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"
     ]
    }
   },
   "cell_type": "markdown",
   "metadata": {},
   "source": [
    "![typing.svg](attachment:typing.svg)"
   ]
  },
  {
   "cell_type": "markdown",
   "metadata": {},
   "source": [
    "We say that a variable is a name that *refers* to a value or and object, and the assignment operator *binds* a variable name to a value."
   ]
  },
  {
   "cell_type": "markdown",
   "metadata": {},
   "source": [
    "The basic data types in Python are: int, float, complex, str (a string), bool (a boolean with values True and False), and bytes. Below are few examples of their use."
   ]
  },
  {
   "cell_type": "code",
   "execution_count": 187,
   "metadata": {},
   "outputs": [
    {
     "name": "stdout",
     "output_type": "stream",
     "text": [
      "Result of the comparison: False\n",
      "Complex multiplication: (-4+0j)\n",
      "concatenation\n"
     ]
    }
   ],
   "source": [
    "i=5\n",
    "f=1.5\n",
    "b = i==4\n",
    "print(\"Result of the comparison:\", b)\n",
    "c=0+2j\n",
    "print(\"Complex multiplication:\", c*c)\n",
    "s=\"conca\" + \"tenation\"\n",
    "print(s)"
   ]
  },
  {
   "cell_type": "markdown",
   "metadata": {},
   "source": [
    "The names of the types act as conversion operators between types:"
   ]
  },
  {
   "cell_type": "code",
   "execution_count": 188,
   "metadata": {},
   "outputs": [
    {
     "name": "stdout",
     "output_type": "stream",
     "text": [
      "-2\n",
      "2.0\n",
      "123\n",
      "True False\n",
      "234\n"
     ]
    }
   ],
   "source": [
    "print(int(-2.8))\n",
    "print(float(2))\n",
    "print(int(\"123\"))\n",
    "print(bool(-2), bool(0))  # Zero is interpreted as False\n",
    "print(str(234))"
   ]
  },
  {
   "cell_type": "markdown",
   "metadata": {},
   "source": [
    "#### Creating strings\n",
    "A string is a sequence of characters commonly used to store input or output data in a program. The characters of a string are specified either between single (') or double (\") quotes. This optionaly is useful if a string needs to contain a quotation mark:\n",
    "\"I don't want to go!\". You can also achieve this by *escaping* the quotation mark with the backslash: 'I don\\'t want to go'.\n",
    "\n",
    "The string can also contain other escape sequences like \\n for newline and \\t for a tabulator. See [literals](https://docs.python.org/3/reference/lexical_analysis.html#literals) for a list of all escape sequences."
   ]
  },
  {
   "cell_type": "code",
   "execution_count": 189,
   "metadata": {},
   "outputs": [
    {
     "name": "stdout",
     "output_type": "stream",
     "text": [
      "One\tTwo\n",
      "Three\tFour\n"
     ]
    }
   ],
   "source": [
    "print(\"One\\tTwo\\nThree\\tFour\")"
   ]
  },
  {
   "cell_type": "markdown",
   "metadata": {},
   "source": [
    "A string containing newlines can be easily given within triple double or triple single quotes:"
   ]
  },
  {
   "cell_type": "code",
   "execution_count": 190,
   "metadata": {},
   "outputs": [],
   "source": [
    "s=\"\"\"A string\n",
    "spanning over\n",
    "several lines\"\"\""
   ]
  },
  {
   "cell_type": "markdown",
   "metadata": {},
   "source": [
    "Although we can concatenate strings using the + operator, for effiency reasons, one should use the join method to concatenate largen number of strings:"
   ]
  },
  {
   "cell_type": "code",
   "execution_count": 191,
   "metadata": {},
   "outputs": [
    {
     "name": "stdout",
     "output_type": "stream",
     "text": [
      "firstsecond\n",
      "first second second first\n"
     ]
    }
   ],
   "source": [
    "a=\"first\"\n",
    "b=\"second\"\n",
    "print(a+b)\n",
    "print(\" \".join([a, b, b, a]))   # More about the join method later\n"
   ]
  },
  {
   "cell_type": "markdown",
   "metadata": {},
   "source": [
    "Sometimes printing by concatenation from pieces can be clumsy:"
   ]
  },
  {
   "cell_type": "code",
   "execution_count": 192,
   "metadata": {},
   "outputs": [
    {
     "name": "stdout",
     "output_type": "stream",
     "text": [
      "1 plus 3 is equal to 4\n",
      "1 plus 3 is equal to 4\n"
     ]
    }
   ],
   "source": [
    "print(str(1) + \" plus \" + str(3) + \" is equal to \" + str(4))\n",
    "# slightly better\n",
    "print(1, \"plus\", 3, \"is equal to\", 4)"
   ]
  },
  {
   "cell_type": "markdown",
   "metadata": {},
   "source": [
    "The multiple catenation and quotation characters break the flow of thought. *String interpolation* offers somewhat easier syntax:"
   ]
  },
  {
   "cell_type": "code",
   "execution_count": 193,
   "metadata": {},
   "outputs": [
    {
     "name": "stdout",
     "output_type": "stream",
     "text": [
      "1 plus 3 is equal to 4\n"
     ]
    }
   ],
   "source": [
    "print(\"%i plus %i is equal to %i\" % (1, 3, 4))"
   ]
  },
  {
   "cell_type": "markdown",
   "metadata": {},
   "source": [
    "Or alternatively using the newer format-method:"
   ]
  },
  {
   "cell_type": "code",
   "execution_count": 194,
   "metadata": {},
   "outputs": [
    {
     "name": "stdout",
     "output_type": "stream",
     "text": [
      "1 plus 3 is equal to 4\n"
     ]
    }
   ],
   "source": [
    "print(\"{} plus {} is equal to {}\".format(1, 3, 4))"
   ]
  },
  {
   "cell_type": "markdown",
   "metadata": {},
   "source": [
    "The %i format specifier corresponds to integers and the specifier %f corresponds to floats.\n",
    "It is often useful to specify the number of decimals when printing the float:"
   ]
  },
  {
   "cell_type": "code",
   "execution_count": 195,
   "metadata": {},
   "outputs": [
    {
     "name": "stdout",
     "output_type": "stream",
     "text": [
      "1.6 1.70 1.800\n",
      "1.6 1.70 1.800\n"
     ]
    }
   ],
   "source": [
    "print(\"%.1f %.2f %.3f\" % (1.6, 1.7, 1.8))               # Old style\n",
    "print(\"{:.1f} {:.2f} {:.3f}\".format(1.6, 1.7, 1.8))     # new style"
   ]
  },
  {
   "cell_type": "markdown",
   "metadata": {},
   "source": [
    "Look [here](https://pyformat.info/#number) for more details about format specifiers, and for comparison between the old and new style of string interpolation."
   ]
  },
  {
   "cell_type": "markdown",
   "metadata": {},
   "source": [
    "### Expressions\n",
    "An *expression* is a piece of Python code that results in a value. It consists of values combined together with *operators*. Values can be literals, such as `1`, `1.2`, `\"text\"`, or variables. Operators include arithmetics operators, comparison operators, function call, indexing, attribute references, among others. Below there are a few examples of expressions:"
   ]
  },
  {
   "cell_type": "markdown",
   "metadata": {},
   "source": [
    "```1+2\n",
    "7/(2+0.1)\n",
    "a\n",
    "cos(0)\n",
    "mylist[1]\n",
    "c > 0 and c !=1\n",
    "(1,2,3)\n",
    "a<5\n",
    "obj.attr\n",
    "(-1)**2 == 1```"
   ]
  },
  {
   "cell_type": "markdown",
   "metadata": {},
   "source": [
    "<div class=\"alert alert-warning\">Note that in Python the operator `//` performs integer division and operator `/` performs float division. The `**` operator denotes exponentiation. These operators might therefore behave differently than in many other comman languages.</div>"
   ]
  },
  {
   "cell_type": "markdown",
   "metadata": {},
   "source": [
    "As another example the following expression computes the kinetic energy of a non-rotating object:\n",
    "`0.5 * mass * velocity**2`"
   ]
  },
  {
   "cell_type": "markdown",
   "metadata": {},
   "source": [
    "### Statements\n",
    "Statements are command that have some effect. For example, a function call (that is not part of another expression) is a statement. Also, the variable assignment is a statement:"
   ]
  },
  {
   "cell_type": "code",
   "execution_count": 196,
   "metadata": {},
   "outputs": [],
   "source": [
    "i = 5\n",
    "i = i+1    # This is a commong idion to increment the value of i by one\n",
    "i += 1     # This is a short-hand for the above"
   ]
  },
  {
   "cell_type": "markdown",
   "metadata": {},
   "source": [
    "It turns out that the operators `+ - * / // % & | ^ >> << **` have the corresponding *augmented assignment operators* `+= -= *= /= //= %= &= |= ^= >>= <<= **=`"
   ]
  },
  {
   "cell_type": "markdown",
   "metadata": {},
   "source": [
    "Another large set of statements if the flow-control statements such as if-else, for and while loops. We will look into these in the next sections."
   ]
  },
  {
   "cell_type": "markdown",
   "metadata": {},
   "source": [
    "#### Loops for repetitive tasks\n",
    "In Python we have two kinds of loops: while and for. We briefly saw the for loop earlier. Let's now look at the while loop. A while loop repeats a set of statements while a given condition holds. An example:"
   ]
  },
  {
   "cell_type": "code",
   "execution_count": 197,
   "metadata": {},
   "outputs": [
    {
     "name": "stdout",
     "output_type": "stream",
     "text": [
      "Square of 1 is 1\n",
      "Square of 2 is 4\n",
      "Square of 3 is 9\n",
      "Square of 4 is 16\n",
      "Square of 5 is 25\n",
      "Square of 6 is 36\n",
      "Square of 7 is 49\n",
      "Square of 8 is 64\n",
      "Square of 9 is 81\n",
      "Square of 10 is 100\n",
      "Square of 11 is 121\n",
      "Square of 12 is 144\n",
      "Square of 13 is 169\n",
      "Square of 14 is 196\n",
      "Square of 15 is 225\n",
      "Square of 16 is 256\n",
      "Square of 17 is 289\n",
      "Square of 18 is 324\n",
      "Square of 19 is 361\n",
      "Square of 20 is 400\n",
      "Square of 21 is 441\n",
      "Square of 22 is 484\n",
      "Square of 23 is 529\n",
      "Square of 24 is 576\n",
      "Square of 25 is 625\n",
      "Square of 26 is 676\n",
      "Square of 27 is 729\n",
      "Square of 28 is 784\n",
      "Square of 29 is 841\n",
      "Square of 30 is 900\n",
      "Square of 31 is 961\n",
      "Finished printing all the squares below 1000.\n"
     ]
    }
   ],
   "source": [
    "i=1\n",
    "while i*i < 1000:\n",
    "    print(\"Square of\", i, \"is\", i*i)\n",
    "    i = i + 1\n",
    "print(\"Finished printing all the squares below 1000.\")"
   ]
  },
  {
   "cell_type": "markdown",
   "metadata": {},
   "source": [
    "Note again that the body of the while statement was marked with the indentation."
   ]
  },
  {
   "cell_type": "markdown",
   "metadata": {},
   "source": [
    "Another way of repeating statements is with the for statement. An example"
   ]
  },
  {
   "cell_type": "code",
   "execution_count": 198,
   "metadata": {},
   "outputs": [
    {
     "name": "stdout",
     "output_type": "stream",
     "text": [
      "The sum is 45\n"
     ]
    }
   ],
   "source": [
    "s=0\n",
    "for i in [0,1,2,3,4,5,6,7,8,9]:\n",
    "    s = s + i\n",
    "print(\"The sum is\", s)"
   ]
  },
  {
   "cell_type": "markdown",
   "metadata": {},
   "source": [
    "The for loop executes the statements in the block as many times as there are elements in the given list. At each iteration the variable i refers to another value from the list in order. Instead of the giving the list explicitly as above, we could have used the *generator* range(10) which returns values from the sequence 0,1,...,9 as the for loop asks for a new value. In the most general form the for loop goes through all the elements in an *iterable*.\n",
    "Besides lists and generators there are other iterables. We will talk about iterables and generators later this week."
   ]
  },
  {
   "cell_type": "markdown",
   "metadata": {},
   "source": [
    "When one wants to iterate through all the elements in an iterable, then the for loop is a natural choice. But sometimes while loops offer cleaner solution. For instance, if we want\n",
    "to go through all Fibonacci number up till a given limit, then it is easier to do with a `while` loop."
   ]
  },
  {
   "cell_type": "markdown",
   "metadata": {},
   "source": [
    "#### Decision making with the if statement\n",
    "The if-else statement works as can be expected.\n",
    "Try running the below cell by pressing control+enter."
   ]
  },
  {
   "cell_type": "code",
   "execution_count": 199,
   "metadata": {},
   "outputs": [
    {
     "name": "stdout",
     "output_type": "stream",
     "text": [
      "Give an integer: 12\n",
      "The absolute value of 12 is 12\n"
     ]
    }
   ],
   "source": [
    "x=input(\"Give an integer: \")\n",
    "x=int(x)\n",
    "if x >= 0:\n",
    "    a=x\n",
    "else:\n",
    "    a=-x\n",
    "print(\"The absolute value of %i is %i\" % (x, a))"
   ]
  },
  {
   "cell_type": "markdown",
   "metadata": {},
   "source": [
    "The general from of an if-else statement is\n",
    "\n",
    "```if condition1:\n",
    "    statement1_1\n",
    "    statement1_2\n",
    "    ...\n",
    "elif condition2:\n",
    "    statement2_1\n",
    "    statement2_2\n",
    "    ...\n",
    "...\n",
    "else:\n",
    "    statementn_1\n",
    "    statementn_2\n",
    "    ...\n",
    "```"
   ]
  },
  {
   "cell_type": "markdown",
   "metadata": {},
   "source": [
    "Another example:"
   ]
  },
  {
   "cell_type": "code",
   "execution_count": 200,
   "metadata": {},
   "outputs": [
    {
     "name": "stdout",
     "output_type": "stream",
     "text": [
      "Give a number: 1\n",
      "c is positive\n"
     ]
    }
   ],
   "source": [
    "c=float(input(\"Give a number: \"))\n",
    "if c > 0:\n",
    "    print(\"c is positive\")\n",
    "elif c<0:\n",
    "    print(\"c is negative\")\n",
    "else:\n",
    "    print(\"c is zero\")"
   ]
  },
  {
   "cell_type": "markdown",
   "metadata": {},
   "source": [
    "#### Breaking and continuing loop\n",
    "Breaking the loop, when the wanted element is found, with the `break` statement:"
   ]
  },
  {
   "cell_type": "code",
   "execution_count": 201,
   "metadata": {},
   "outputs": [
    {
     "name": "stdout",
     "output_type": "stream",
     "text": [
      "The first negative list element was -1\n"
     ]
    }
   ],
   "source": [
    "l=[1,3,65,3,-1,56,-10]\n",
    "for x in l:\n",
    "    if x < 0:\n",
    "        break\n",
    "print(\"The first negative list element was\", x)"
   ]
  },
  {
   "cell_type": "markdown",
   "metadata": {},
   "source": [
    "Stopping current iteration and continuing to the next one with the `continue` statement:"
   ]
  },
  {
   "cell_type": "code",
   "execution_count": 202,
   "metadata": {},
   "outputs": [
    {
     "name": "stdout",
     "output_type": "stream",
     "text": [
      "Square root of 1 is 1.000000\n",
      "Natural logarithm of 1 is 0.000000\n",
      "Square root of 3 is 1.732051\n",
      "Natural logarithm of 3 is 1.098612\n",
      "Square root of 65 is 8.062258\n",
      "Natural logarithm of 65 is 4.174387\n",
      "Square root of 3 is 1.732051\n",
      "Natural logarithm of 3 is 1.098612\n",
      "Square root of 56 is 7.483315\n",
      "Natural logarithm of 56 is 4.025352\n"
     ]
    }
   ],
   "source": [
    "from math import sqrt, log\n",
    "l=[1,3,65,3,-1,56,-10]\n",
    "for x in l:\n",
    "    if x < 0:\n",
    "        continue\n",
    "    print(\"Square root of %i is %f\" % (x, sqrt(x)))\n",
    "    print(\"Natural logarithm of %i is %f\" % (x, log(x)))"
   ]
  },
  {
   "cell_type": "markdown",
   "metadata": {},
   "source": [
    "### Functions\n",
    "A function is defined with the `def` statement. Let's do a doubling function."
   ]
  },
  {
   "cell_type": "code",
   "execution_count": 203,
   "metadata": {},
   "outputs": [
    {
     "name": "stdout",
     "output_type": "stream",
     "text": [
      "8 2.4 abcabc\n"
     ]
    }
   ],
   "source": [
    "def double(x):\n",
    "    \"This function multiplies its argument by two.\"\n",
    "    return x*2\n",
    "print(double(4), double(1.2), double(\"abc\")) # It even happens to work for strings!"
   ]
  },
  {
   "cell_type": "markdown",
   "metadata": {},
   "source": [
    "The double function takes only one parameter. Notice the *docstring* on the second line. It documents the purpose and usage of the function. Let's try to access it."
   ]
  },
  {
   "cell_type": "code",
   "execution_count": 204,
   "metadata": {},
   "outputs": [
    {
     "name": "stdout",
     "output_type": "stream",
     "text": [
      "The docstring is: This function multiplies its argument by two.\n",
      "Help on function double in module __main__:\n",
      "\n",
      "double(x)\n",
      "    This function multiplies its argument by two.\n",
      "\n"
     ]
    }
   ],
   "source": [
    "print(\"The docstring is:\", double.__doc__)\n",
    "help(double)   # Another way to access the docstring"
   ]
  },
  {
   "cell_type": "markdown",
   "metadata": {},
   "source": [
    "Most of Python's builtin functions, classes, and modules should contain a docstring."
   ]
  },
  {
   "cell_type": "code",
   "execution_count": 205,
   "metadata": {},
   "outputs": [
    {
     "name": "stdout",
     "output_type": "stream",
     "text": [
      "Help on built-in function print in module builtins:\n",
      "\n",
      "print(...)\n",
      "    print(value, ..., sep=' ', end='\\n', file=sys.stdout, flush=False)\n",
      "    \n",
      "    Prints the values to a stream, or to sys.stdout by default.\n",
      "    Optional keyword arguments:\n",
      "    file:  a file-like object (stream); defaults to the current sys.stdout.\n",
      "    sep:   string inserted between values, default a space.\n",
      "    end:   string appended after the last value, default a newline.\n",
      "    flush: whether to forcibly flush the stream.\n",
      "\n"
     ]
    }
   ],
   "source": [
    "help(print)"
   ]
  },
  {
   "cell_type": "markdown",
   "metadata": {},
   "source": [
    "Here's another example function:"
   ]
  },
  {
   "cell_type": "code",
   "execution_count": 206,
   "metadata": {},
   "outputs": [
    {
     "name": "stdout",
     "output_type": "stream",
     "text": [
      "25\n"
     ]
    }
   ],
   "source": [
    "def sum_of_squares(a, b):\n",
    "    \"Computes the sum of arguments squared\"\n",
    "    return a**2 + b**2\n",
    "print(sum_of_squares(3, 4))"
   ]
  },
  {
   "cell_type": "markdown",
   "metadata": {},
   "source": [
    "<div class=\"alert alert-warning\">Note the terminology: in the function definition the names a and b are called *parameters* of the function; in the function call, however, 3 and 4 are called *arguments* to the function.\n",
    "</div>"
   ]
  },
  {
   "cell_type": "markdown",
   "metadata": {},
   "source": [
    "It would be nice that the number of arguments could be arbitrary, not just two. We could pass a list to the function as a parameter."
   ]
  },
  {
   "cell_type": "code",
   "execution_count": 207,
   "metadata": {},
   "outputs": [
    {
     "name": "stdout",
     "output_type": "stream",
     "text": [
      "4\n",
      "45\n"
     ]
    }
   ],
   "source": [
    "def sum_of_squares(lst):\n",
    "    \"Computes the sum of squares of elements in the list given as parameter\"\n",
    "    s=0\n",
    "    for x in lst:\n",
    "        s += x**2\n",
    "    return s\n",
    "print(sum_of_squares([-2]))\n",
    "print(sum_of_squares([-2,4,5]))"
   ]
  },
  {
   "cell_type": "markdown",
   "metadata": {},
   "source": [
    "This works perfectly! There is however some extra typing with the brackets around the lists. Let's see if we can do better:"
   ]
  },
  {
   "cell_type": "code",
   "execution_count": 208,
   "metadata": {},
   "outputs": [
    {
     "name": "stdout",
     "output_type": "stream",
     "text": [
      "4\n",
      "45\n"
     ]
    }
   ],
   "source": [
    "def sum_of_squares(*t):\n",
    "    \"Computes the sum of squares of arbitrary number of arguments\"\n",
    "    s=0\n",
    "    for x in t:\n",
    "        s += x**2\n",
    "    return s\n",
    "print(sum_of_squares(-2))\n",
    "print(sum_of_squares(-2,4,5))"
   ]
  },
  {
   "cell_type": "markdown",
   "metadata": {},
   "source": [
    "The strange looking argument notation is called *argument packing*. It packs all the given positional arguments into a tuple `t`. We will encounter tuples again later, but it suffices now to say that tuples are immutable lists. With the for loop we can iterate through all the elements in the tuple.\n",
    "\n",
    "Conversely, there is also syntax for *argument unpacking*. It has confusingly exactly same notation as argument packing, but they are separated by the location where used. Packing happens in the parameter list of the functions definition, and unpacking happens where the function is called:"
   ]
  },
  {
   "cell_type": "code",
   "execution_count": 209,
   "metadata": {},
   "outputs": [
    {
     "name": "stdout",
     "output_type": "stream",
     "text": [
      "With list unpacked as arguments to the functions: 90\n"
     ]
    }
   ],
   "source": [
    "lst=[1,5,8]\n",
    "print(\"With list unpacked as arguments to the functions:\", sum_of_squares(*lst))\n",
    "# print(sum_of_squares(lst))    # Does not work correctly"
   ]
  },
  {
   "cell_type": "markdown",
   "metadata": {},
   "source": [
    "The second call failed because the function tried to raise the list of numbers to the second power. Inside the function body we have t=([1,5,8]), where the parentheses denote a tuple with one element, a list."
   ]
  },
  {
   "cell_type": "markdown",
   "metadata": {},
   "source": [
    "In addition to positional parameters we have seen so far, a function can also have *named parameters*. An example will explain this concept best:"
   ]
  },
  {
   "cell_type": "markdown",
   "metadata": {},
   "source": [
    "One can also specify optional parameter by giving the parameters a default value. The parameters that have default values must come after those parameters that don't. We saw that the parameters of the print function were of form `print(value, ..., sep=' ', end='\\n', file=sys.stdout, flush=False)`. There were four parameters with default values. If some default values don't suit us, we give them in the function call using the name of the parameter:"
   ]
  },
  {
   "cell_type": "code",
   "execution_count": 210,
   "metadata": {},
   "outputs": [
    {
     "name": "stdout",
     "output_type": "stream",
     "text": [
      "1 -*- 2 -*- 3 |first -*- second -*- third |"
     ]
    }
   ],
   "source": [
    "print(1, 2, 3, end=' |', sep=' -*- ')\n",
    "print(\"first\", \"second\", \"third\", end=' |', sep=' -*- ')"
   ]
  },
  {
   "cell_type": "markdown",
   "metadata": {},
   "source": [
    "Note that the named arguments didn't need to be in the same order as in the function definition. Nor did we need to specify all the parameters with default values, only those we wanted to change."
   ]
  },
  {
   "cell_type": "code",
   "execution_count": 211,
   "metadata": {},
   "outputs": [
    {
     "name": "stdout",
     "output_type": "stream",
     "text": [
      "5.0\n",
      "4.497941445275415\n"
     ]
    }
   ],
   "source": [
    "def length(*t, degree=2):\n",
    "    \"\"\"Computes the length of the vector given as parameter. By default, it computes\n",
    "    the Euclidean distance (degree==2)\"\"\"\n",
    "    s=0\n",
    "    for x in t:\n",
    "        s += abs(x)**degree\n",
    "    return s**(1/degree)\n",
    "print(length(-4,3))\n",
    "print(length(-4,3, degree=3))"
   ]
  },
  {
   "cell_type": "markdown",
   "metadata": {},
   "source": [
    "With the default parameter this is the Euclidean distance, and if $p\\ne 2$ it is called [$p$-norm](https://en.wikipedia.org/wiki/P-norm)."
   ]
  },
  {
   "cell_type": "markdown",
   "metadata": {},
   "source": [
    "We saw that it was possible to use packing and unpacking of arguments with the * notation, when one wants to specify arbitrary number of *positional arguments*. This is also possible for arbitrary number of named arguments with the `**` notation. We will talk about this more in the data structures section."
   ]
  },
  {
   "cell_type": "markdown",
   "metadata": {},
   "source": [
    "#### Visibility of variables\n",
    "Function definition creates a new namespace (also called local scope). Variables created inside this scope are not available from outside the function definition. Also, the function parameters are only visible inside the function definition. Variables that are not defined inside any function are called `global variables`.\n",
    "\n",
    "Global variable are readable also in local scopes, but an assignment creates a new local variable without rebinding the global variable. If we are inside a function, a local variable hides a global variable by the same name:"
   ]
  },
  {
   "cell_type": "code",
   "execution_count": 212,
   "metadata": {},
   "outputs": [
    {
     "name": "stdout",
     "output_type": "stream",
     "text": [
      "3\n",
      "2\n"
     ]
    }
   ],
   "source": [
    "i=2\n",
    "def f():\n",
    "    i=3       # this creates a new variable, it does not rebind the global i\n",
    "    print(i)  # This will print 3    \n",
    "f()\n",
    "print(i)      # This will print 2"
   ]
  },
  {
   "cell_type": "markdown",
   "metadata": {},
   "source": [
    "If you really need to rebind a global variable from a function, use the `global` statement. Example:"
   ]
  },
  {
   "cell_type": "code",
   "execution_count": 213,
   "metadata": {},
   "outputs": [
    {
     "name": "stdout",
     "output_type": "stream",
     "text": [
      "5\n",
      "5\n"
     ]
    }
   ],
   "source": [
    "i=2\n",
    "def f():\n",
    "    global i\n",
    "    i=5       # rebind the global i variable\n",
    "    print(i)  # This will print 5\n",
    "f()\n",
    "print(i)      # This will print 5"
   ]
  },
  {
   "cell_type": "markdown",
   "metadata": {},
   "source": [
    "Unlike languages like C or C++, Python allows defining a function inside another function. This *nested* function will have nested scope:"
   ]
  },
  {
   "cell_type": "code",
   "execution_count": 214,
   "metadata": {},
   "outputs": [
    {
     "name": "stdout",
     "output_type": "stream",
     "text": [
      "3\n",
      "2\n"
     ]
    }
   ],
   "source": [
    "def f():            # outer function\n",
    "    b=2\n",
    "    def g():        # inner function\n",
    "        #nonlocal b # Without this nonlocal statement,\n",
    "        b=3         # this will create a new local variable\n",
    "        print(b)\n",
    "    g()\n",
    "    print(b)\n",
    "f()"
   ]
  },
  {
   "cell_type": "markdown",
   "metadata": {},
   "source": [
    "Try first running the above cell and see the result. Then uncomment the nonlocal stamement and run the cell again. The `global` and `nonlocal` statements are similar. The first will force a variable refer to a global variable, and the second will force a variable to refer to the variable in the nearest outer scope (but not the global scope)."
   ]
  },
  {
   "cell_type": "markdown",
   "metadata": {},
   "source": [
    "## Data structures\n",
    "The main data structures in Python are stringss, lists, tuples, dictionaries, and sets. We saw some examples of lists, when we discussed for loops. And we saw briefly tuples when we introduced argument packing and unpacking. Let's get into more details now.\n",
    "\n",
    "### Sequences\n",
    "A *list* contains arbitrary number of elements (even zero) that are stored in sequential order. The elements are separated by commas and written between brackets. The elements don't need to be of the same type. An example of a list with four values:"
   ]
  },
  {
   "cell_type": "code",
   "execution_count": 215,
   "metadata": {},
   "outputs": [
    {
     "data": {
      "text/plain": [
       "[2, 100, 'hello', 1.0]"
      ]
     },
     "execution_count": 215,
     "metadata": {},
     "output_type": "execute_result"
    }
   ],
   "source": [
    "[2, 100, \"hello\", 1.0]"
   ]
  },
  {
   "cell_type": "markdown",
   "metadata": {},
   "source": [
    "A *tuple* is fixed length, immutable, and ordered container. Elements of tuple are separated by commas and written between parentheses. Examples of tuples:"
   ]
  },
  {
   "cell_type": "code",
   "execution_count": 216,
   "metadata": {},
   "outputs": [],
   "source": [
    "(3,)               # a singleton\n",
    "(1,3)              # a pair\n",
    "(1, \"hello\", 1.0); # a triple"
   ]
  },
  {
   "cell_type": "markdown",
   "metadata": {},
   "source": [
    "<div class=\"alert alert-warning\">Note the difference between `(3)` and `(3,)`. The first one defines an integer, and the second one defines a tuple with single element.</div>"
   ]
  },
  {
   "cell_type": "markdown",
   "metadata": {},
   "source": [
    "As we can see, both lists and tuples can contain values different type.\n",
    "\n",
    "List, tuples, and strings are called *sequences* in Python, and they have several commonalities:\n",
    "* their length can be queried with the `len` function\n",
    "* `min` and `max` function find the minimum and maximum element of a sequence, and `sum` adds all the elements of numbers together\n",
    "* Sequences can be concatenated with the `+` operator, and repeated with the `*` operator: `\"hi\"*3==\"hihihi\"`\n",
    "* Since sequences are ordered, we can refer to the elements of a sequences by integers using the *indexing* notation: `\"abcd\"[2] == \"c\"`\n",
    "* Note that the indexing begins from 0\n",
    "* Negative integers start indexing from the end: -1 refers to the last element, -1 refers to the second last, and so on"
   ]
  },
  {
   "cell_type": "markdown",
   "metadata": {},
   "source": [
    "Above we saw that we can access a single element of a sequence using indexing. If we want a subset of a sequence, we can use the *slicing* syntax. A slice consists of elements of the original sequence, and it is itself a sequence as well. A simple slice is a range of elements:"
   ]
  },
  {
   "cell_type": "code",
   "execution_count": 217,
   "metadata": {},
   "outputs": [
    {
     "data": {
      "text/plain": [
       "'bcd'"
      ]
     },
     "execution_count": 217,
     "metadata": {},
     "output_type": "execute_result"
    }
   ],
   "source": [
    "s=\"abcdefg\"\n",
    "s[1:4]"
   ]
  },
  {
   "cell_type": "markdown",
   "metadata": {},
   "source": [
    "Note that Python ranges exclude the last index. The generic form of a slice is\n",
    "`sequence[first:last:step]`. If any of the three parameters are left out, they are set to default values as follows: first=0, last=len(L), step=1. So, for instance \"abcde\"[1:]==\"bcde\". The step parameter selects elements that are step distance apart from each other. For example:"
   ]
  },
  {
   "cell_type": "code",
   "execution_count": 218,
   "metadata": {},
   "outputs": [
    {
     "name": "stdout",
     "output_type": "stream",
     "text": [
      "[0, 3, 6, 9]\n"
     ]
    }
   ],
   "source": [
    "print([0,1,2,3,4,5,6,7,8,9][::3])"
   ]
  },
  {
   "cell_type": "markdown",
   "metadata": {},
   "source": [
    "#### Modifying lists\n",
    "We can assign values to elements of a list by indexing or by slicing. An example:"
   ]
  },
  {
   "cell_type": "code",
   "execution_count": 219,
   "metadata": {},
   "outputs": [
    {
     "name": "stdout",
     "output_type": "stream",
     "text": [
      "[11, 2, 20, 32]\n"
     ]
    }
   ],
   "source": [
    "L=[11,13,20,32]\n",
    "L[1]=2          # Changes the third element\n",
    "print(L)"
   ]
  },
  {
   "cell_type": "markdown",
   "metadata": {},
   "source": [
    "Or we can assign a list to a slice:"
   ]
  },
  {
   "cell_type": "code",
   "execution_count": 220,
   "metadata": {},
   "outputs": [
    {
     "name": "stdout",
     "output_type": "stream",
     "text": [
      "[11, 4, 32]\n"
     ]
    }
   ],
   "source": [
    "L[1:3]=[4]\n",
    "print(L)"
   ]
  },
  {
   "cell_type": "markdown",
   "metadata": {},
   "source": [
    "We can also modify a list by using *mutating methods* of the list class, namely the methods `append`, `extend`, `insert`, `remove`, `pop`, `reverse`, and `sort`. Try Python's help functionality to find more about these methods: e.g. `help(list.extend)` or `help(list)`.\n",
    "\n",
    "<div class=\"alert alert-warning\">Note that we cannot perform these modifications on tuples or strings since they are *immutable*</div>"
   ]
  },
  {
   "cell_type": "markdown",
   "metadata": {},
   "source": [
    "#### Generating sequences\n",
    "Trivial lists can be tedious to write: `[0,1,2,3,4,5,6]`. The function range creates numeric ranges automatically. The above sequence can be generated with the function call range(7). Note again that then end value is not included  in the sequence. An example of using the range function:"
   ]
  },
  {
   "cell_type": "code",
   "execution_count": 221,
   "metadata": {},
   "outputs": [
    {
     "name": "stdout",
     "output_type": "stream",
     "text": [
      "0\n",
      "1\n",
      "2\n",
      "range(0, 3)\n"
     ]
    }
   ],
   "source": [
    "L=range(3)\n",
    "for i in L:\n",
    "    print(i)\n",
    "# Note that L is not a list!\n",
    "print(L)"
   ]
  },
  {
   "cell_type": "markdown",
   "metadata": {},
   "source": [
    "So `L` is not a list, but it is a sequence. We can for instace access its last element with `L[-1]`. If really needed, then it can be converted to a list with the `list` constructor:"
   ]
  },
  {
   "cell_type": "code",
   "execution_count": 222,
   "metadata": {},
   "outputs": [
    {
     "name": "stdout",
     "output_type": "stream",
     "text": [
      "[0, 1, 2, 3, 4, 5, 6, 7, 8, 9]\n"
     ]
    }
   ],
   "source": [
    "L=range(10)\n",
    "print(list(L))"
   ]
  },
  {
   "cell_type": "markdown",
   "metadata": {},
   "source": [
    "<div class=\"alert alert-warning\">Note that using a range consumes less memory than a corresponding list. This is because in a list all the elements are stored in the memory, whereas the range generates the requested elements only when needed. For example, when the for loop asks for the next element from the range at each iteration, only a single element from the range exists in memory at the same time.</div>"
   ]
  },
  {
   "cell_type": "markdown",
   "metadata": {},
   "source": [
    "The range function works in similar fashion as slices. So, for instance the step of the sequence can be given:"
   ]
  },
  {
   "cell_type": "code",
   "execution_count": 223,
   "metadata": {},
   "outputs": [
    {
     "name": "stdout",
     "output_type": "stream",
     "text": [
      "[0, 2, 4, 6]\n"
     ]
    }
   ],
   "source": [
    "print(list(range(0, 7, 2)))"
   ]
  },
  {
   "cell_type": "markdown",
   "metadata": {},
   "source": [
    "### Dictionaries\n",
    "A *dictionary* is a dynamic, unordered container. Instead of using integers to access the elements of the container, the dictionary uses *keys* to acces the stored *values*. The dictionary can be created by listing the comma separated key-value pairs in braces. Keys and values are separated by a colon. A tuple (key,value) is called an *item* of the dictionary.\n",
    "\n",
    "Let's demonstrate the dictionary creation and usage:"
   ]
  },
  {
   "cell_type": "code",
   "execution_count": 224,
   "metadata": {},
   "outputs": [
    {
     "name": "stdout",
     "output_type": "stream",
     "text": [
      "value1\n",
      "value2\n"
     ]
    }
   ],
   "source": [
    "d={\"key1\":\"value1\", \"key2\":\"value2\"}\n",
    "print(d[\"key1\"])\n",
    "print(d[\"key2\"])"
   ]
  },
  {
   "cell_type": "markdown",
   "metadata": {},
   "source": [
    "Keys can have different types even in the same container. So the following code is legal:\n",
    "`d={1:\"a\", \"z\":1}`. The only restriction is that the keys must be *hashable*. That is, there has to be a mapping from keys to integers. Lists are *not* hashable, but tuples are!\n",
    "\n",
    "There are alternative syntaxes for dictionary creation:"
   ]
  },
  {
   "cell_type": "code",
   "execution_count": 225,
   "metadata": {},
   "outputs": [],
   "source": [
    "dict([(\"key1\", \"value1\"), (\"key2\", \"value2\"), (\"key3\", \"value3\")]) # list of items\n",
    "dict(key1=\"value1\", key2=\"value2\", key3=\"value3\");"
   ]
  },
  {
   "cell_type": "markdown",
   "metadata": {},
   "source": [
    "If a key is not found in a dictionary, the indexing `d[key]` results in an error (*exception* `KeyError`). But an assignment with non-existing key causes the key to be added in the dictionary associated with the corresponding value:"
   ]
  },
  {
   "cell_type": "code",
   "execution_count": 226,
   "metadata": {},
   "outputs": [
    {
     "name": "stdout",
     "output_type": "stream",
     "text": [
      "{2: 'value'}\n"
     ]
    }
   ],
   "source": [
    "d={}\n",
    "d[2]=\"value\"\n",
    "print(d)"
   ]
  },
  {
   "cell_type": "code",
   "execution_count": 227,
   "metadata": {},
   "outputs": [],
   "source": [
    "# d[1]   # This would cause an error"
   ]
  },
  {
   "cell_type": "markdown",
   "metadata": {},
   "source": [
    "Dictionary object contains several non-mutating methods:\n",
    "```\n",
    "d.copy()\n",
    "d.has key(k)\n",
    "d.items()\n",
    "d.keys()\n",
    "d.values()\n",
    "d.iteritems()\n",
    "d.iterkeys()\n",
    "d.itervalues()\n",
    "d.get(k[,x])\n",
    "```\n",
    "\n",
    "Some methods change the dictionary:\n",
    "```\n",
    "d.clear()\n",
    "d.update(d1)\n",
    "d.setdefault(k[,x])\n",
    "d.pop(k[,x])\n",
    "d.popitem()\n",
    "```\n",
    "\n",
    "Try out some of these in the below cell. You can find more info with `help(dict)` or `help(dict.keys)`."
   ]
  },
  {
   "cell_type": "code",
   "execution_count": 228,
   "metadata": {},
   "outputs": [
    {
     "data": {
      "text/plain": [
       "dict_values([1, 2, 3, 4, 5])"
      ]
     },
     "execution_count": 228,
     "metadata": {},
     "output_type": "execute_result"
    }
   ],
   "source": [
    "d=dict(a=1, b=2, c=3, d=4, e=5)\n",
    "d.values()"
   ]
  },
  {
   "cell_type": "markdown",
   "metadata": {},
   "source": [
    "### Sets\n",
    "Set is a dynamic, unordered container. It works a bit like dictionary, but only the keys are stored. And each key can be stored only once. The set requires that the keys to be stored are hashable. Below are a few ways of creating a set:"
   ]
  },
  {
   "cell_type": "code",
   "execution_count": 229,
   "metadata": {},
   "outputs": [
    {
     "name": "stdout",
     "output_type": "stream",
     "text": [
      "{'a', 1, 2}\n",
      "set()\n",
      "{7}\n"
     ]
    }
   ],
   "source": [
    "s=set([1,2,2,'a'])\n",
    "print(s)\n",
    "s=set()  # empty set\n",
    "print(s)\n",
    "s.add(7) # add one element\n",
    "print(s)"
   ]
  },
  {
   "cell_type": "markdown",
   "metadata": {},
   "source": [
    "A more useful example:"
   ]
  },
  {
   "cell_type": "code",
   "execution_count": 230,
   "metadata": {},
   "outputs": [
    {
     "name": "stdout",
     "output_type": "stream",
     "text": [
      "There are 4 distinct characters in mississippi\n"
     ]
    }
   ],
   "source": [
    "s=\"mississippi\"\n",
    "print(\"There are %i distinct characters in %s\" % (len(set(s)), s))"
   ]
  },
  {
   "cell_type": "markdown",
   "metadata": {},
   "source": [
    "The `set` provides the following non-mutating methods:"
   ]
  },
  {
   "cell_type": "code",
   "execution_count": 231,
   "metadata": {},
   "outputs": [],
   "source": [
    "s=set()\n",
    "s1=set()\n",
    "s.copy()\n",
    "s.issubset(s1)\n",
    "s.issuperset(s1)\n",
    "s.union(s1)\n",
    "s.intersection(s1)\n",
    "s.difference(s1)\n",
    "s.symmetric_difference(s1);"
   ]
  },
  {
   "cell_type": "markdown",
   "metadata": {},
   "source": [
    "The last four operation can be tedious to write to create a more complicated expression. The alternative is to use the corresponding operator forms: `|`, `&`, `-`, and `^`. An example of these:"
   ]
  },
  {
   "cell_type": "code",
   "execution_count": 232,
   "metadata": {},
   "outputs": [
    {
     "name": "stdout",
     "output_type": "stream",
     "text": [
      "Union: {1, 2, 7, 8, 9}\n",
      "Intersection: {2}\n",
      "Difference: {1, 7}\n",
      "Symmetric difference {1, 7, 8, 9}\n"
     ]
    }
   ],
   "source": [
    "s=set([1,2,7])\n",
    "t=set([2,8,9])\n",
    "print(\"Union:\", s|t)\n",
    "print(\"Intersection:\", s&t)\n",
    "print(\"Difference:\", s-t)\n",
    "print(\"Symmetric difference\", s^t)"
   ]
  },
  {
   "cell_type": "markdown",
   "metadata": {},
   "source": [
    "There are also the following mutating methods:\n",
    "```\n",
    "s.add(x)\n",
    "s.clear()\n",
    "s.discard()\n",
    "s.pop()\n",
    "s.remove(x)\n",
    "```\n",
    "\n",
    "And the set operators `|`, `&`, `-`, and `^` have the corresponding mutating, augmented assignment forms: `|=`, `&=`, `-=`, and `^=`."
   ]
  },
  {
   "cell_type": "markdown",
   "metadata": {},
   "source": [
    "### Miscellaneous stuff\n",
    "\n",
    "To find out whether a container includes an element, the `in` operator can be used. The operator returns a truth values. Some examples of the usage:"
   ]
  },
  {
   "cell_type": "code",
   "execution_count": 233,
   "metadata": {},
   "outputs": [
    {
     "name": "stdout",
     "output_type": "stream",
     "text": [
      "True\n",
      "True\n",
      "False\n",
      "x text\n"
     ]
    }
   ],
   "source": [
    "print(1 in [1,2])\n",
    "d=dict(a=1, b=3)\n",
    "print(\"b\" in d)\n",
    "s=set()\n",
    "print(1 in s)\n",
    "print(\"x\", \"text\")"
   ]
  },
  {
   "cell_type": "markdown",
   "metadata": {},
   "source": [
    "As a special case, for string the `in` operator can be used to check whether a string is part of another string:"
   ]
  },
  {
   "cell_type": "code",
   "execution_count": 234,
   "metadata": {},
   "outputs": [
    {
     "name": "stdout",
     "output_type": "stream",
     "text": [
      "True\n",
      "False\n"
     ]
    }
   ],
   "source": [
    "print(\"issi\" in \"mississippi\")\n",
    "print(\"issp\" in \"mississippi\")"
   ]
  },
  {
   "cell_type": "markdown",
   "metadata": {},
   "source": [
    "Elements of a container can be unpacked into variables:"
   ]
  },
  {
   "cell_type": "code",
   "execution_count": 235,
   "metadata": {},
   "outputs": [
    {
     "name": "stdout",
     "output_type": "stream",
     "text": [
      "e\n",
      "a b\n"
     ]
    }
   ],
   "source": [
    "first, second = [4,5]\n",
    "a,b,c = \"bye\"\n",
    "print(c)\n",
    "d=dict(a=1, b=3)\n",
    "key1, key2 = d\n",
    "print(key1, key2)"
   ]
  },
  {
   "cell_type": "markdown",
   "metadata": {},
   "source": [
    "In membership testing and unpacking only the keys of a dictionary are used, unless either values or items (like below) are explicitly asked."
   ]
  },
  {
   "cell_type": "code",
   "execution_count": 236,
   "metadata": {},
   "outputs": [
    {
     "name": "stdout",
     "output_type": "stream",
     "text": [
      "For key 'a' value 1 was stored\n",
      "For key 'b' value 3 was stored\n"
     ]
    }
   ],
   "source": [
    "for key, value in d.items():\n",
    "    print(\"For key '%s' value %i was stored\" % (key,value))"
   ]
  },
  {
   "cell_type": "markdown",
   "metadata": {},
   "source": [
    "To remove the binding of a variable, use the `del` statement. For example:"
   ]
  },
  {
   "cell_type": "code",
   "execution_count": 237,
   "metadata": {},
   "outputs": [],
   "source": [
    "s=\"hello\"\n",
    "del s\n",
    "# print(s)    # This would cause an error"
   ]
  },
  {
   "cell_type": "markdown",
   "metadata": {},
   "source": [
    "To delete an item from a container, the `del` statement can again be applied:"
   ]
  },
  {
   "cell_type": "code",
   "execution_count": 238,
   "metadata": {},
   "outputs": [
    {
     "name": "stdout",
     "output_type": "stream",
     "text": [
      "[13, 40, 100]\n"
     ]
    }
   ],
   "source": [
    "L=[13,23,40,100]\n",
    "del L[1]\n",
    "print(L)"
   ]
  },
  {
   "cell_type": "markdown",
   "metadata": {},
   "source": [
    "In similar fashion `del` can be used to delete a slice. Later we will see that `del` can delete attributes from an object."
   ]
  },
  {
   "cell_type": "markdown",
   "metadata": {},
   "source": [
    "## Compact way of creating data structures\n",
    "We can now easily create complicated data structures using for loops:"
   ]
  },
  {
   "cell_type": "code",
   "execution_count": 239,
   "metadata": {},
   "outputs": [
    {
     "name": "stdout",
     "output_type": "stream",
     "text": [
      "[0, 1, 4, 9, 16, 25, 36, 49, 64, 81]\n"
     ]
    }
   ],
   "source": [
    "L=[]\n",
    "for i in range(10):\n",
    "    L.append(i**2)\n",
    "print(L)"
   ]
  },
  {
   "cell_type": "markdown",
   "metadata": {},
   "source": [
    "Because this kind of pattern is often used, Python offers a short-hand for this. A *list comprehension* is an expression that allows creating complicated lists on one line. The notation is familiar from mathematics:"
   ]
  },
  {
   "cell_type": "markdown",
   "metadata": {},
   "source": [
    "$\\{a^3 : a \\in \\{1,2, \\ldots, 10\\}\\}$"
   ]
  },
  {
   "cell_type": "markdown",
   "metadata": {},
   "source": [
    "The same written in Python as a list comprehension:"
   ]
  },
  {
   "cell_type": "code",
   "execution_count": 240,
   "metadata": {},
   "outputs": [
    {
     "name": "stdout",
     "output_type": "stream",
     "text": [
      "[1, 8, 27, 64, 125, 216, 343, 512, 729, 1000]\n"
     ]
    }
   ],
   "source": [
    "L=[ a**3 for a in range(1,11)]\n",
    "print(L)"
   ]
  },
  {
   "cell_type": "markdown",
   "metadata": {},
   "source": [
    "The generic from of a list comprehension is:\n",
    "`[ expression for element in iterable lc-clauses ]`.\n",
    "Let's break this syntax into pieces. The iterable can be any sequence (or something more general). The lc-clauses consists of zero or more of the following clauses:\n",
    "* for elem in iterable\n",
    "* if expression\n",
    "\n",
    "A more complicated example. How would you describe these numbers?"
   ]
  },
  {
   "cell_type": "code",
   "execution_count": 241,
   "metadata": {},
   "outputs": [
    {
     "name": "stdout",
     "output_type": "stream",
     "text": [
      "[0, 1, 2, 3, 4, 5, 6, 7, 8, 9, 11, 12, 13, 14, 15, 16, 17, 18, 19, 22, 23, 24, 25, 26, 27, 28, 29, 33, 34, 35, 36, 37, 38, 39, 44, 45, 46, 47, 48, 49, 55, 56, 57, 58, 59, 66, 67, 68, 69, 77, 78, 79, 88, 89, 99, 111, 112, 113, 114, 115, 116, 117, 118, 119, 122, 123, 124, 125, 126, 127, 128, 129, 133, 134, 135, 136, 137, 138, 139, 144, 145, 146, 147, 148, 149, 155, 156, 157, 158, 159, 166, 167, 168, 169, 177, 178, 179, 188, 189, 199, 222, 223, 224, 225, 226, 227, 228, 229, 233, 234, 235, 236, 237, 238, 239, 244, 245, 246, 247, 248, 249, 255, 256, 257, 258, 259, 266, 267, 268, 269, 277, 278, 279, 288, 289, 299, 333, 334, 335, 336, 337, 338, 339, 344, 345, 346, 347, 348, 349, 355, 356, 357, 358, 359, 366, 367, 368, 369, 377, 378, 379, 388, 389, 399, 444, 445, 446, 447, 448, 449, 455, 456, 457, 458, 459, 466, 467, 468, 469, 477, 478, 479, 488, 489, 499, 555, 556, 557, 558, 559, 566, 567, 568, 569, 577, 578, 579, 588, 589, 599, 666, 667, 668, 669, 677, 678, 679, 688, 689, 699, 777, 778, 779, 788, 789, 799, 888, 889, 899, 999]\n"
     ]
    }
   ],
   "source": [
    "L=[ 100*a + 10*b +c for a in range(0,10)\n",
    "                    for b in range(0,10)\n",
    "                    for c in range(0,10) \n",
    "                    if a <= b <= c]\n",
    "print(L)"
   ]
  },
  {
   "cell_type": "markdown",
   "metadata": {},
   "source": [
    "If one needs only to iterate through the list once, it is more memory efficient to use a *generator expression* instead. The only thing that changes syntactically is that the surrounding brackets are replace by parentheses:"
   ]
  },
  {
   "cell_type": "code",
   "execution_count": 242,
   "metadata": {},
   "outputs": [
    {
     "name": "stdout",
     "output_type": "stream",
     "text": [
      "60885\n",
      "0\n"
     ]
    }
   ],
   "source": [
    "G = ( 100*a + 10*b + c for a in range(0,10)\n",
    "                       for b in range(0,10)\n",
    "                       for c in range(0,10) \n",
    "                       if a <= b <= c )\n",
    "print(sum(G))   # This iterates through all the elements from the generator\n",
    "print(sum(G))   # It doesn't start from the beginning, so all elements are already consumed"
   ]
  },
  {
   "cell_type": "markdown",
   "metadata": {},
   "source": [
    "<div class=\"alert alert-warning\">Note above that one can only iterate through the generator once.</div>"
   ]
  },
  {
   "cell_type": "markdown",
   "metadata": {},
   "source": [
    "Similary a *dictionary comprehension* creates a dictionary:"
   ]
  },
  {
   "cell_type": "code",
   "execution_count": 243,
   "metadata": {},
   "outputs": [
    {
     "name": "stdout",
     "output_type": "stream",
     "text": [
      "{0: 0, 1: 1, 2: 4, 3: 9, 4: 16, 5: 25, 6: 36, 7: 49, 8: 64, 9: 81}\n"
     ]
    }
   ],
   "source": [
    "d={ k : k**2 for k in range(10)}\n",
    "print(d)"
   ]
  },
  {
   "cell_type": "markdown",
   "metadata": {},
   "source": [
    "And a *set comprehension* creates a set:"
   ]
  },
  {
   "cell_type": "code",
   "execution_count": 244,
   "metadata": {},
   "outputs": [
    {
     "name": "stdout",
     "output_type": "stream",
     "text": [
      "{0, 1, 2, 3, 4, 5, 6, 7, 8, 9, 10, 12, 14, 15, 16, 18, 20, 21, 24, 25, 27, 28, 30, 32, 35, 36, 40, 42, 45, 48, 49, 54, 56, 63, 64, 72, 81}\n"
     ]
    }
   ],
   "source": [
    "s={ i*j for i in range(10) for j in range(10)}\n",
    "print(s)"
   ]
  },
  {
   "cell_type": "markdown",
   "metadata": {},
   "source": [
    "## Processing sequences\n",
    "In this section we will go through some useful tool, are maybe familiar to you from some function programming language like *lisp* or *haskell*. These functions rely on functions being first-class objects in Python, that is, you can\n",
    "* pass a function as a parameter to another function\n",
    "* return a function as a return value from some function\n",
    "* store a function in a data structure or a variable\n",
    "\n",
    "We will talk about `map`, `filter`, and `reduce` functions. We will also cover how to create functions with no name using the *lambda* expression."
   ]
  },
  {
   "cell_type": "markdown",
   "metadata": {},
   "source": [
    "### Map and lambda functions\n",
    "The `map` function gets a list and a function as parameters, and it returns a new list whose\n",
    "elements are elements of the original list transformed by the parameter function. For this to work the parameter must take exactly one parameter and return a value. An example will clarify this concept:"
   ]
  },
  {
   "cell_type": "code",
   "execution_count": 245,
   "metadata": {},
   "outputs": [
    {
     "name": "stdout",
     "output_type": "stream",
     "text": [
      "<map object at 0x7f066841eba8>\n"
     ]
    }
   ],
   "source": [
    "def double(x):\n",
    "    return 2*x\n",
    "L=[12,4,-1]\n",
    "print(map(double, L))"
   ]
  },
  {
   "cell_type": "markdown",
   "metadata": {},
   "source": [
    "The map function returns a map object for efficiency reasons. However, since we only want print the contents, we first convert it to a list and then print it:"
   ]
  },
  {
   "cell_type": "code",
   "execution_count": 246,
   "metadata": {},
   "outputs": [
    {
     "name": "stdout",
     "output_type": "stream",
     "text": [
      "[24, 8, -2]\n"
     ]
    }
   ],
   "source": [
    "print(list(map(double,L)))"
   ]
  },
  {
   "cell_type": "markdown",
   "metadata": {},
   "source": [
    "When one reads numerice data from a file or from the internet, the number of in string. Before they can be used in computations, they must first be converted to ints or floats.\n",
    "A simple example will showcase this."
   ]
  },
  {
   "cell_type": "code",
   "execution_count": 247,
   "metadata": {},
   "outputs": [
    {
     "name": "stdout",
     "output_type": "stream",
     "text": [
      "['12', '43', '64', '6']\n",
      "125\n"
     ]
    }
   ],
   "source": [
    "s=\"12 43 64 6\"\n",
    "L=s.split()        # The split method of the string class, breaks the string at whitespaces\n",
    "                   # to a list of strings.\n",
    "print(L)\n",
    "print(sum(map(int, L)))  # The int function converts a string to an integer"
   ]
  },
  {
   "cell_type": "markdown",
   "metadata": {},
   "source": [
    "Sometimes it feels unnecessary to write a function is you are only going to use it in one  `map` function call. For example the function"
   ]
  },
  {
   "cell_type": "code",
   "execution_count": 248,
   "metadata": {},
   "outputs": [],
   "source": [
    "def add_double_and_square(x):\n",
    "    return 2*x+x**2 "
   ]
  },
  {
   "cell_type": "markdown",
   "metadata": {},
   "source": [
    "It is not likely that you will need it elsewhere in your program. The solution is to use an *expression* called *lambda* define a function with no name. Because it is an expression we can put it, for instance, in a argument list of a function call. The lambda expression has the form `lambda param1,param2, ... : expression`, where after the lambda keyword you list the parameters of the function, and after the colon is the expression that uses the parameters to compute the return value of function. Let's replace the above `add_double_and_square` function with a lambda function and apply it to a list using the `map` function."
   ]
  },
  {
   "cell_type": "code",
   "execution_count": 249,
   "metadata": {},
   "outputs": [
    {
     "name": "stdout",
     "output_type": "stream",
     "text": [
      "[8, 15, 35]\n"
     ]
    }
   ],
   "source": [
    "L=[2,3,5]\n",
    "print(list(map(lambda x : 2*x+x**2, L)))"
   ]
  },
  {
   "cell_type": "markdown",
   "metadata": {},
   "source": [
    "### Filter function\n"
   ]
  },
  {
   "cell_type": "markdown",
   "metadata": {},
   "source": [
    "The `filter` function takes a function and a list as parameters. But unlike with the map construct, now the function must take exactly one parameter and return a truth value (True or False). The `filter` function then creates a new list with only those elements from the original list for which the parameter function returns True. The elements for which the parameter function returns False are filtered out. An will demonstrate the `filter` function:"
   ]
  },
  {
   "cell_type": "code",
   "execution_count": 250,
   "metadata": {},
   "outputs": [
    {
     "name": "stdout",
     "output_type": "stream",
     "text": [
      "[1, 5, 9]\n"
     ]
    }
   ],
   "source": [
    "def is_odd(x):\n",
    "    \"\"\"Returns True if x is odd and False if x is even\"\"\"\n",
    "    return x % 2 == 1         # The % operator returns the remainder of integer division\n",
    "L=[1, 4, 5, 9, 10]\n",
    "print(list(filter(is_odd, L)))"
   ]
  },
  {
   "cell_type": "markdown",
   "metadata": {},
   "source": [
    "The even elements of the list were filtered out."
   ]
  },
  {
   "cell_type": "markdown",
   "metadata": {},
   "source": [
    "### The reduce function\n",
    "The `sum` function that returns the sum of a numeric list, can be though to reduce a list to a single element. It does this reduction by repeated applying the `+` operator until all the list elements are consumed. For instance, the list [1,2,3,4] is reduced by the expression `(((0+1)+2)+3)+4` of repeated applications of the `+` operator. We could implement this with the following function:"
   ]
  },
  {
   "cell_type": "code",
   "execution_count": 251,
   "metadata": {},
   "outputs": [],
   "source": [
    "def sumreduce(L):\n",
    "    s=0\n",
    "    for x in L:\n",
    "        s = s+x\n",
    "    return s"
   ]
  },
  {
   "cell_type": "markdown",
   "metadata": {},
   "source": [
    "Because this is a common pattern, the designers of Python included a function called `reduce` to simplify the reduction of a sequence. You give the operator you want to use as a parameter to reduce (addition in the above example). And you also give a starting value of the computation (starting value 0 was used above). We can now get rid of the separate function sumreduce by using the reduce function:"
   ]
  },
  {
   "cell_type": "code",
   "execution_count": 252,
   "metadata": {},
   "outputs": [
    {
     "data": {
      "text/plain": [
       "10"
      ]
     },
     "execution_count": 252,
     "metadata": {},
     "output_type": "execute_result"
    }
   ],
   "source": [
    "L=[1,2,3,4]\n",
    "from functools import reduce   # import the reduce function from the functools module\n",
    "reduce(lambda x,y:x+y, L, 0)"
   ]
  },
  {
   "cell_type": "markdown",
   "metadata": {},
   "source": [
    "If we wanted to get a product of all numbers in a sequence, we would use"
   ]
  },
  {
   "cell_type": "code",
   "execution_count": 253,
   "metadata": {},
   "outputs": [
    {
     "data": {
      "text/plain": [
       "24"
      ]
     },
     "execution_count": 253,
     "metadata": {},
     "output_type": "execute_result"
    }
   ],
   "source": [
    "reduce(lambda x,y:x*y, L, 1)"
   ]
  },
  {
   "cell_type": "markdown",
   "metadata": {},
   "source": [
    "This corresponds to the sequence `(((1*1)*2)*3)*4` of application of operator `*`."
   ]
  },
  {
   "cell_type": "markdown",
   "metadata": {},
   "source": [
    "<div class=\"alert alert-warning\">Note that use of the starting value is necessary, because we want to be able to reduce lists of lengths 0 and 1 as well. The default starting value is zero."
   ]
  },
  {
   "cell_type": "markdown",
   "metadata": {},
   "source": [
    "## String handling\n",
    "We have already seen how to index, slice, concatenate, and repeat strings. Let's now look into what methods the `str` class offers. In Python strings are immutable. This means that for instance the following assignment is not legal:"
   ]
  },
  {
   "cell_type": "code",
   "execution_count": 254,
   "metadata": {},
   "outputs": [],
   "source": [
    "s=\"text\"\n",
    "# s[0] = \"a\"    # This is not legal in Python"
   ]
  },
  {
   "cell_type": "markdown",
   "metadata": {},
   "source": [
    "Because of the immutability of the strings, the string methods work by returning a value; they don't have any side-effects. In the rest of this section we briefly describe several of these methods. The methods are here divided into five groups."
   ]
  },
  {
   "cell_type": "markdown",
   "metadata": {},
   "source": [
    "### Classification of strings\n",
    "All the following methods will take no parameters and return a truth value. An empty string will always result in `False`.\n",
    "* `s.isalpha()` True if all characters are letters or digits\n",
    "* `s.isalpha()` True if all characters are letters\n",
    "* `s.isdigit()` True if all characters are digits\n",
    "* `s.islower()` True if contains letters, and all are lowercase\n",
    "* `s.isupper()` True if contains letters, and all are uppercase\n",
    "* `s.isspace()` True if all characters are whitespace\n",
    "* `s.istitle()` True if uppercase in the beginning of word, elsewhere lowercase"
   ]
  },
  {
   "cell_type": "markdown",
   "metadata": {},
   "source": [
    "### String transformations\n",
    "The following methods do conversions between lower and uppercase characters in the string. All these methods return a new string.\n",
    "* `s.lower()`      Change all letters to lowercase\n",
    "* `s.upper()`      Change all letters to uppercase\n",
    "* `s.capitalize()` Change all letters to capitalcase\n",
    "* `s.title()` Change to titlecase\n",
    "* `s.swapcase()` Change all uppercase letters to lowercase, and vice versa\n",
    "\n",
    "\n",
    "\n",
    "\n",
    "\n"
   ]
  },
  {
   "cell_type": "markdown",
   "metadata": {},
   "source": [
    "### Searching for substrings\n",
    "All the following methods get the wanted substring as the\n",
    "parameter, except the replace method, which also gets the\n",
    "replacing string as a parameter\n",
    "* `s.count(substr)` Counts the number of occurences of a substring\n",
    "* `s.find(substr)` Finds index of the first occurence of a substring, or -1\n",
    "* `s.rfind(substr)` Finds index of the last occurence of a substring, or -1\n",
    "* `s.index(substr)` Like find, except ValueError is raised if not found\n",
    "* `s.rindex(substr)` Like rfind, except ValueError is raised if not found\n",
    "* `s.startswith(substr)` Returns True if string starts with a given substring\n",
    "* `s.endswith(substr)` Returns True if string ends with a given substring\n",
    "* `s.replace(substr, replacement)` Returns a string where occurences of one string\n",
    "are replaced by another\n",
    "\n",
    "Keep also in mind that the expression `\"issi\" in \"mississippi\"` returns a truth value of whether the first string occurs in the second string.\n",
    "\n",
    "\n",
    "\n",
    "\n",
    "\n",
    "\n"
   ]
  },
  {
   "cell_type": "markdown",
   "metadata": {},
   "source": [
    "### Trimming and adjusting\n",
    "* `s.strip(x)` Removes leading and trailing whitespace by default, or characters found in string x\n",
    "* `s.lstrip(x)` Same as strip but only leading characters are removed\n",
    "* `s.rstrip(x)` Same as strip but only trailing characters are removed\n",
    "* `s.ljust(n)` Left justifies string inside a field of length n\n",
    "* `s.rjust(n)` Right justifies string inside a field of length n\n",
    "* `s.center(n)` Centers string inside a field of length n"
   ]
  },
  {
   "cell_type": "markdown",
   "metadata": {},
   "source": [
    "An example of using the `center` method and string repetition:"
   ]
  },
  {
   "cell_type": "code",
   "execution_count": 255,
   "metadata": {},
   "outputs": [
    {
     "name": "stdout",
     "output_type": "stream",
     "text": [
      "-----------\n",
      "|    *    |\n",
      "|   ***   |\n",
      "|  *****  |\n",
      "| ******* |\n",
      "|*********|\n",
      "|    *    |\n",
      "|    *    |\n",
      "-----------\n"
     ]
    }
   ],
   "source": [
    "L=[1,3,5,7,9,1,1]\n",
    "print(\"-\"*11)\n",
    "for i in L:\n",
    "    s=\"*\"*i \n",
    "    print(\"|%s|\" % s.center(9))\n",
    "print(\"-\"*11)"
   ]
  },
  {
   "cell_type": "markdown",
   "metadata": {},
   "source": [
    "### Joining and splitting\n",
    "The `join(seq)` method joins the strings of the sequence `seq`. The string itself is used as a delimitter. An example:"
   ]
  },
  {
   "cell_type": "code",
   "execution_count": 256,
   "metadata": {},
   "outputs": [
    {
     "data": {
      "text/plain": [
       "'abc--def--ghi'"
      ]
     },
     "execution_count": 256,
     "metadata": {},
     "output_type": "execute_result"
    }
   ],
   "source": [
    "\"--\".join([\"abc\", \"def\", \"ghi\"])"
   ]
  },
  {
   "cell_type": "code",
   "execution_count": 257,
   "metadata": {},
   "outputs": [
    {
     "name": "stdout",
     "output_type": "stream",
     "text": [
      " 0 1 2 3 4 5 6 7 8 9 10 11 12 13 14 15 16 17 18 19 20 21 22 23 24 25 26 27 28 29 30 31 32 33 34 35 36 37 38 39 40 41 42 43 44 45 46 47 48 49 50 51 52 53 54 55 56 57 58 59 60 61 62 63 64 65 66 67 68 69 70 71 72 73 74 75 76 77 78 79 80 81 82 83 84 85 86 87 88 89 90 91 92 93 94 95 96 97 98 99\n",
      " 0 1 2 3 4 5 6 7 8 9 10 11 12 13 14 15 16 17 18 19 20 21 22 23 24 25 26 27 28 29 30 31 32 33 34 35 36 37 38 39 40 41 42 43 44 45 46 47 48 49 50 51 52 53 54 55 56 57 58 59 60 61 62 63 64 65 66 67 68 69 70 71 72 73 74 75 76 77 78 79 80 81 82 83 84 85 86 87 88 89 90 91 92 93 94 95 96 97 98 99\n"
     ]
    }
   ],
   "source": [
    "L=list(map(lambda x : \" %s\" % x, range(100)))\n",
    "s=\"\"\n",
    "for x in L:\n",
    "    s = s + x   # Don't ever do this, it creates a new string at every iteration\n",
    "print(s)\n",
    "print(\"\".join(L))  # This is the correct way of building a string out of smaller strings"
   ]
  },
  {
   "cell_type": "markdown",
   "metadata": {},
   "source": [
    "<div class=\"alert alert-warning\">If you want to build a string out of smaller strings, then\n",
    "first put the small strings into a list, and then use the `join` method to catenate the pieces together. It is much more efficient this way. Use the `+` catenation operator only if you have very few short strings that you want to catenate.</div>"
   ]
  },
  {
   "cell_type": "markdown",
   "metadata": {},
   "source": [
    "The method `split(sep=None)` divides a string into pieces that are separated by the string `sep`. The pieces are returned in a list. For instance, the call 'abc--def--ghi'.split(\"--\") will result in"
   ]
  },
  {
   "cell_type": "code",
   "execution_count": 258,
   "metadata": {},
   "outputs": [
    {
     "data": {
      "text/plain": [
       "['abc', 'def', 'ghi']"
      ]
     },
     "execution_count": 258,
     "metadata": {},
     "output_type": "execute_result"
    }
   ],
   "source": [
    "'abc--def--ghi'.split(\"--\")"
   ]
  },
  {
   "cell_type": "markdown",
   "metadata": {},
   "source": [
    "## Regular expressions"
   ]
  },
  {
   "cell_type": "markdown",
   "metadata": {},
   "source": [
    "## Examples\n",
    "\n",
    "We have already seen that we can ask from a string str\n",
    "whether it begins with some substring as follows:\n",
    "`str.startswith(’Apple’)`.\n",
    "If we would like to know whether it starts with `”Apple”` or\n",
    "`”apple”`, we would have to call `startswith` method twice.\n",
    "Regular expressions offer a simpler solution:\n",
    "`re.match(r’[Aa]pple’, str)`.\n",
    "The bracket notation is one example of the special syntax of\n",
    "*regular expressions*. In this case it says that any of the\n",
    "characters inside brackets will do: either `’A’` or `’a’`. The other\n",
    "letters in `”pple”` will act normally. The string `r’[Aa]pple’` is\n",
    "called a pattern.\n",
    "\n",
    "A more complicated example asks whether the string `str`\n",
    "starts with either `apple` or `banana` (no matter if the first letter\n",
    "is capital or not):\n",
    "`re.match(r’[Aa]pple|[Bb]anana’, str)`.\n",
    "In this example we saw a new special character `|` that denotes\n",
    "an alternative. On either side of the bar character we have a\n",
    "subpattern.\n",
    "\n",
    "A legal variable name in Python starts with a letter or an\n",
    "underline character and the following characters can also be\n",
    "digits.\n",
    "So legal names are, for instance: `_hidden`, `L_value`, `A123_`.\n",
    "But the name `2abc` is not a valid variable name.\n",
    "Let’s see what would be the regular expression pattern to\n",
    "recognise valid variable names:\n",
    "`r’[A-Za-z_][A-Za-z_0-9]*\\Z’`.\n",
    "Here we have used a shorthand for character ranges: `A-Z`.\n",
    "This means all the characters from `A` to `Z`.\n",
    "\n",
    "The first character of the variable name is defined in the first\n",
    "brackets. The subsequent characters are defined in the second\n",
    "brackets.\n",
    "The special character `*` means that we allow any number\n",
    "(0,1,2, . . . ) of the previous subpattern. For example the\n",
    "pattern `r’ba*’` allows strings `’b’`, `’ba’`, `’baa’`, `’baaa’`, and\n",
    "so on.\n",
    "The special syntax `\\Z` denotes the end of the string.\n",
    "Without it we would also accept `abc$` as a valid name since\n",
    "match normally checks only that a string starts with a pattern.\n",
    "\n",
    "The special notations, like `\\Z`, also cause problems with string\n",
    "handling.\n",
    "Remember that normally in string literals we have some\n",
    "special notation: `\\n` stands for newline, `\\t` stands for tab, and\n",
    "so on.\n",
    "So, both string literals and regular expressions use similar\n",
    "looking notations, which can create serious confusion.\n",
    "This can be solved by using the so-called raw strings. We\n",
    "denote a raw string by having an r letter before the first\n",
    "quotation mark, for example `r’ab*\\Z’`.\n",
    "When using raw strings, the newline (`\\n`), tab (`\\t`), and other\n",
    "special string literal notations aren’t interpreted. One should\n",
    "always use raw strings when defining regular expression\n",
    "patterns."
   ]
  },
  {
   "cell_type": "markdown",
   "metadata": {},
   "source": [
    "## Patterns\n",
    "\n",
    "A pattern represents a set of strings. This set can even be\n",
    "potentially infinite.\n",
    "They can be used to describe a set of strings that have some\n",
    "commonality; some regular structure.\n",
    "Regular expressions are a classical computer science topic.\n",
    "They are very common in programming tasks. Scripting\n",
    "languages, like Python, are very fluent in regular expressions.\n",
    "Very complex text processing can be achieved using regular\n",
    "expressions.\n",
    "\n",
    "Normal characters (letters, numbers) just represent\n",
    "themselves, unless preceded by a backslash, which may trigger\n",
    "some special meaning\n",
    "Punctuation characters have special meaning, unless preceded\n",
    "by backslash (\\), which deprives their special meaning.\n",
    "Use \\\\ to represent a backslash character without any special\n",
    "meaning.\n",
    "In the following slides we will go through some of the more\n",
    "common RE notations.\n",
    "\n",
    "```\n",
    ". Matches any character\n",
    "[...] Matches any character contained within the brackets\n",
    "[^...] Matches any character not appearing after the hat (ˆ)\n",
    "ˆ Matches the start of the string\n",
    "$ Matches the end of the string\n",
    "* Matches zero or more previous RE\n",
    "+ Matches one or more previous RE\n",
    "{m,n} Matches m to n occurences of previous RE\n",
    "? Matches zero or one occurences of previous RE\n",
    "```\n",
    "\n",
    "We have already seen that a `|` character denotes alternatives.\n",
    "For example, the pattern `r’Get (on|off|ready)’` matches\n",
    "the following strings: `”Get on”`, `”Get off”`, `”Get ready”`.\n",
    "We can use parentheses to create groupings inside a pattern:\n",
    "`r’(ab)+’` will match the strings `”ab”`, `”abab”`, `”ababab”`,\n",
    "and so on.\n",
    "These groups are also given a reference number starting from 1. \n",
    "We can refer to groups using backreferences: `\\number`.\n",
    "For example, we can find separated patterns that get\n",
    "repeated: `r’([a-z]{3,}) \\1 \\1’`.\n",
    "This will recognise, for example, the following strings: `\"aca\n",
    "aca aca\"`, `\"turn turn turn\"`. But not the strings `\"aca\n",
    "aba aca\"` or `\"ac ac ac\"`.\n",
    "\n",
    "\n",
    "In the following, note that a hat (ˆ) as the first character\n",
    "inside brackets will create a complement set of characters:\n",
    "\n",
    "```\n",
    "`\\d` same as `[0-9]`, matches a digit\n",
    "`\\D` same as `[ˆ0-9]`, matches anything but a digit\n",
    "`\\s` matches a whitespace character (newline, tab, ... )\n",
    "`\\S` matches a nonwhitespace character\n",
    "`\\w` same as `[a-zA-Z0-9_]`, matches one alphanumeric character\n",
    "`\\W` matches one non-alphanumeric character\n",
    "```\n",
    "\n",
    "Using the above notation we can now shorten our previous\n",
    "variable name example to `r’[a-zA-Z_]\\w*\\Z’`\n",
    "\n",
    "The patterns `\\A`, `\\b`, `\\B`, and `\\Z` will all match an empty\n",
    "string, but in specific places.\n",
    "The patterns `\\A` and `\\Z` will recognise the beginning and end\n",
    "of the string, respectively.\n",
    "Note that the patterns `ˆ` and `$` can in some cases match also\n",
    "after a newline and before a newline, correspondingly.\n",
    "So, `\\A` is distinct from `ˆ`, and `\\Z` is distinct from `$`.\n",
    "The pattern `\\b` matches at the start or end of a word. The\n",
    "pattern `\\B` does the reverse."
   ]
  },
  {
   "cell_type": "markdown",
   "metadata": {},
   "source": [
    "## Match and search functions\n",
    "\n",
    "We have so far only used the re.match function which tries\n",
    "to find a match at the beginning of a string\n",
    "The function re.search allows to match any substring of a\n",
    "string.\n",
    "Example: `re.search(r'\\bback\\b', s)` will match\n",
    "strings `\"back\"`, `\"a back, is a body part\"`, `\"get back\"`. But it\n",
    "will not match the strings `\"backspace\"` or `\"comeback\"`.\n",
    "\n",
    "The function `re.search` finds only the first occurence.\n",
    "We can use the `re.findall` function to find all occurences.\n",
    "Let’s say we want to find all present participle words in a\n",
    "string `s`. The present participle words have ending `'ing'`.\n",
    "The function call would look like this:\n",
    "`re.findall(r'\\w+ing\\b', s)`.\n",
    "Let’s try running this:"
   ]
  },
  {
   "cell_type": "code",
   "execution_count": 8,
   "metadata": {},
   "outputs": [
    {
     "data": {
      "text/plain": [
       "['Doing', 'going', 'staying', 'sleeping']"
      ]
     },
     "execution_count": 8,
     "metadata": {},
     "output_type": "execute_result"
    }
   ],
   "source": [
    "import re\n",
    "s = \"Doing things, going home, staying awake, sleeping later\"\n",
    "re.findall(r'\\w+ing\\b', s)"
   ]
  },
  {
   "cell_type": "markdown",
   "metadata": {},
   "source": [
    "Let’s say we want to pick up all the integers from a string.\n",
    "We can try that with the following function call:\n",
    "`re.findall(r'[+-]?\\d+', s)`.\n",
    "An example run:"
   ]
  },
  {
   "cell_type": "code",
   "execution_count": 9,
   "metadata": {},
   "outputs": [
    {
     "data": {
      "text/plain": [
       "['23', '-24', '-1']"
      ]
     },
     "execution_count": 9,
     "metadata": {},
     "output_type": "execute_result"
    }
   ],
   "source": [
    "re.findall(r'[+-]?\\d+', \"23 + -24 = -1\")"
   ]
  },
  {
   "cell_type": "markdown",
   "metadata": {},
   "source": [
    "Suppose we are given a string of if/then sentences, and we\n",
    "would like to extract the conditions from these sentences.\n",
    "Let’s try the following function call:\n",
    "`re.findall(r'[Ii]f (.*), then', s)`.\n",
    "An example run:"
   ]
  },
  {
   "cell_type": "code",
   "execution_count": 10,
   "metadata": {},
   "outputs": [
    {
     "data": {
      "text/plain": [
       "['I’m not in a hurry, then I should stay. On the other hand, if I leave']"
      ]
     },
     "execution_count": 10,
     "metadata": {},
     "output_type": "execute_result"
    }
   ],
   "source": [
    "s = (\"If I’m not in a hurry, then I should stay. \" +\n",
    "    \"On the other hand, if I leave, then I can sleep.\")\n",
    "re.findall(r'[Ii]f (.*), then', s)"
   ]
  },
  {
   "cell_type": "markdown",
   "metadata": {},
   "source": [
    "But I wanted a result: `[\"I'm not in a hurry\", 'I leave']`. That\n",
    "is, the condition from both sentences. How can this be fixed?\n",
    "\n",
    "The problem is that the pattern `.*` tries to match as many\n",
    "characters as possible.\n",
    "This is called *greedy matching*.\n",
    "One way of solving this problem is to notice that the two\n",
    "sentences are separated by a full-stop (.).\n",
    "So, instead of matching all the characters, we need to match\n",
    "everything but the dot character.\n",
    "This can be achieved by using the complement character\n",
    "class: `[^.]`. The hat character (`ˆ`) in the beginning of a\n",
    "character class means the complement character class\n",
    "\n",
    "After the modification the function call looks like this:\n",
    "`re.findall(r'[Ii]f ([^.]*), then', s)`.\n",
    "Another way of solving this problem is to use a non-greedy\n",
    "matching.\n",
    "The repetition specifiers `+`, `*`, `?`, and `{m,n}` have\n",
    "corresponding non-greedy versions: `+?`, `*?`, `??`, and `{m,n}?`.\n",
    "These expressions use as few characters as possible to make\n",
    "the whole pattern match some substring.\n",
    "By using non-greedy version, the function call looks like this:\n",
    "`re.findall(r’[Ii]f (.*?), then’, s)`.\n",
    "\n"
   ]
  },
  {
   "cell_type": "markdown",
   "metadata": {},
   "source": [
    "## Functions in the `re` module\n",
    "\n",
    "Below is a list of the most common functions in the `re` module\n",
    "* re.match(pattern, str)\n",
    "* re.search(pattern, str)\n",
    "* re.findall(pattern, str)\n",
    "* re.finditer(pattern, str)\n",
    "* re.sub(pattern, replacement, str, count=0)\n",
    "\n",
    "Functions match and search return a match object.\n",
    "A match object describes the found occurence.\n",
    "The function findall returns a list of all the occurences of\n",
    "the pattern. The elements in the list are strings.\n",
    "The function finditer works like findall function except\n",
    "that instead of returning a list, it returns an iterator whose\n",
    "items are match objects.\n",
    "The function sub replaces all the occurences of the pattern in\n",
    "str with the string replacement and returns the new string.\n",
    "\n",
    "An example: The following program will replace all ”she”\n",
    "words with ”he”\n",
    "\n",
    "```\n",
    "import re\n",
    "str = \"She goes where she wants to, she's a sheriff.\"\n",
    "newstr = re.sub(r'\\b[Ss]he\\b', 'he', str)\n",
    "print newstr\n",
    "```\n",
    "\n",
    "This will print `he goes where he wants to, he's a sheriff.`\n",
    "\n",
    "The `sub` function can also use backreferences to refer to the\n",
    "matched string. The backreferences \\1, \\2, and so on, refer\n",
    "to the groups of the pattern, in order.\n",
    "An example:\n",
    "```\n",
    "import re\n",
    "str = \"\"\"He is the prime minister of Russia.\n",
    "He’s a powerful man.\"\"\"\n",
    "newstr = re.sub(r'(\\b[Hh]e\\b)', r'\\1 (Putin)', str, 1)\n",
    "print newstr\n",
    "```\n",
    "\n",
    "This will print\n",
    "```\n",
    "He (Putin) is the prime minister of Russia.\n",
    "He’s a powerful man.\n",
    "```"
   ]
  },
  {
   "cell_type": "markdown",
   "metadata": {},
   "source": [
    "## Match object\n",
    "\n",
    "Functions `match`, `search`, and `finditer` use `match` objects\n",
    "to describe the found occurence.\n",
    "The method `groups()` of the match object returns the tuple\n",
    "of all the substrings matched by the groups of the pattern.\n",
    "Each pair of parentheses in the pattern creates a new group.\n",
    "These groups are are referred to by indices 1, 2, ...\n",
    "The group 0 is a special one: it refers to the match created by\n",
    "the whole pattern.\n",
    "\n",
    "Let’s look at the match object returned by the call\n",
    "\n",
    "```\n",
    "mo = re.search(r'\\d+ (\\d+) \\d+ (\\d+)',\n",
    "'first 123 45 67 890 last')\n",
    "```\n",
    "\n",
    "The call `mo.groups()` returns a tuple `(’45’, ’890’)`.\n",
    "We can access just some individual groups by using the\n",
    "method `group(gid, ...)`.\n",
    "For example, the call `mo.group(1)` will return `’45’`.\n",
    "The zeroth group will represent the whole match:\n",
    "`’123 45 67 890’`\n",
    "\n",
    "In addition to accessing the strings matched by the pattern\n",
    "and its groups, the corresponding indices of the original string\n",
    "can be accessed:\n",
    "* The `start(gid=0)` and `end(gid=0)` methods return the start\n",
    "and end indices of the matched group gid, correspondingly\n",
    "* The method `span(gid)` just returns the pair of these start\n",
    "and end indices\n",
    "\n",
    "The match object mo can also be used like a boolean value:\n",
    "\n",
    "```python\n",
    "mo = re.search(...)\n",
    "if mo:\n",
    "    # do something\n",
    "```\n",
    "\n",
    "will do something if a match was found.\n",
    "Alternatively, the match object can be converted to a boolean\n",
    "value by the call `found = bool(mo)`."
   ]
  },
  {
   "cell_type": "markdown",
   "metadata": {},
   "source": [
    "## Miscellaneous stuff\n",
    "\n",
    "If the same pattern is used in many function calls, it may be\n",
    "wise to precompile the pattern, mainly for efficiency reasons.\n",
    "This can be done using the 'compile(pattern, flags=0)' function\n",
    "in the re module. The function returns a so-called RE object.\n",
    "The RE object has method versions of the functions found in\n",
    "module 're'.\n",
    "The only difference is that the first parameter is not the\n",
    "pattern since the precompiled pattern is stored in the RE\n",
    "object.\n",
    "\n",
    "The details of matching operation can be specified using\n",
    "optional flags.\n",
    "These flags can be given either inside the pattern or as a\n",
    "parameter to the compile function.\n",
    "Some of the more common flags are given in the following\n",
    "table\n",
    "\n",
    "| x   | Flag |\n",
    "|-----|--------------|\n",
    "|`(?i)` | re.IGNORECASE|\n",
    "|`(?m)` | re.MULTILINE|\n",
    "|`(?s)` | re.DOTALL|\n",
    "-------------------------\n",
    "\n",
    "The elements on the left can appear anywhere in the pattern\n",
    "but preferably in the beginning.\n",
    "On the right there are attributes of the re module that can be\n",
    "given to the compile function as the second parameter\n",
    "\n",
    "The `IGNORECASE` flag makes lower- and uppercase\n",
    "characters appear as equal.\n",
    "The `MULTILINE` flag makes the special characters `ˆ` and `$`\n",
    "match the beginning and end of each line in addition to the\n",
    "beginning and end of the whole string. These flags make `\\A`\n",
    "differ from `ˆ`, and `\\Z` differ from `$`.\n",
    "The `DOTALL` flag makes the character class `.` (dot) also\n",
    "accept the newline character, in addition to all the other\n",
    "letters.\n",
    "\n",
    "When giving multiple flags to the compile function, the flags\n",
    "can be separated with the `|` sign.\n",
    "For example, `re.compile(pattern, re.MULTILINE | re.DOTALL)`.\n",
    "This is equal to `re.compile('(?m)(?s)' + pattern)`."
   ]
  },
  {
   "cell_type": "markdown",
   "metadata": {},
   "source": [
    "# Basic file processing"
   ]
  },
  {
   "cell_type": "markdown",
   "metadata": {},
   "source": [
    "A file can be opened with the `open` function. The call `open(filename, mode=\"r\")` will return a *file object*, whose type is `file`. This file object can be used to refer to a file on disk. For example, when we want to read from or write to a file, we can used the methods `read` and `write` of the file object. After the file object is no longer needed, a call to the `close` method should be made.\n",
    "\n",
    "We can control what kind of operations we can perform on a file with the *mode* parameter of the `open` function. Different options include opening a file for reading or writing,\n",
    "whether the file should exists already or be created with the\n",
    "call to open, etc. Here's a list of all the opening modes:\n",
    "\n",
    "| Mode | Description |\n",
    "| ---- | ----------- |\n",
    "| `r`  | read-only mode, file must exist |\n",
    "| `w`  | write-only mode, creates, or overwrites an existing file |\n",
    "| `a`  | write-only mode, write always appends to the end |\n",
    "| `r+` | read/write mode, file must already exist |\n",
    "| `w+` | read/write mode, creates, or overwrites an existing file |\n",
    "| `a+` | read/write mode, write will append to end |"
   ]
  },
  {
   "cell_type": "markdown",
   "metadata": {},
   "source": [
    "In the end of the mode string either the letter `t` or `b` can be appended. These stand for text mode and binary mode. If this letter is not given, the file type is text mode by default. \n",
    "\n",
    "For binary mode the contents of the file are not interpreted in any way, and the read and write methods handle bytes. (A byte consists of 8 bits and can be used to represent a number in the range 0 to 255.)\n",
    "\n",
    "In the text mode two interpretations happen\n",
    "* On Windows operating system the end of line in files is encoded by two characters. When the file is read these two charactes are converted to `'\\n'` character. During writes to a file this conversion happens in the opposite direction.\n",
    "* One character is encoded in the file as one or more bytes. This conversion happens automatically during read and write operations. One common encoding between bytes and characters is utf-8. In this encoding, the Finnish character `'ä'`, for example, is encoded as the following sequence of bytes:"
   ]
  },
  {
   "cell_type": "code",
   "execution_count": 259,
   "metadata": {},
   "outputs": [
    {
     "data": {
      "text/plain": [
       "b'\\xc3\\xa4'"
      ]
     },
     "execution_count": 259,
     "metadata": {},
     "output_type": "execute_result"
    }
   ],
   "source": [
    "\"ä\".encode(\"utf-8\")"
   ]
  },
  {
   "cell_type": "markdown",
   "metadata": {},
   "source": [
    "Above the two bytes were expressed as hexadecimals. In decimal notation they would be 195 and 164. (Both in the range from 0 to 255.) What is the utf-8 encoding of the letter `'a'`?\n",
    "\n",
    "During this course we will only consider files containing text, so the default text mode is fine for us."
   ]
  },
  {
   "cell_type": "markdown",
   "metadata": {},
   "source": [
    "### Some common file object methods\n",
    "* `read(size)` will read size characters/bytes as a string\n",
    "* `write(string)` will write string/bytes to a file\n",
    "* `readline()` will read a string until and including the next newline character is met\n",
    "* `readlines()` will return a list of all lines of a file\n",
    "* `writelines()` will write a list of lines to a file\n",
    "* `flush()` will try to make sure that the changes made to a file are written to disk immediately"
   ]
  },
  {
   "cell_type": "code",
   "execution_count": 260,
   "metadata": {
    "scrolled": true
   },
   "outputs": [
    {
     "name": "stdout",
     "output_type": "stream",
     "text": [
      "Line 0: {\n",
      "Line 1:  \"cells\": [\n",
      "Line 2:   {\n",
      "Line 3:    \"cell_type\": \"markdown\",\n",
      "Line 4:    \"metadata\": {},\n"
     ]
    }
   ],
   "source": [
    "f = open(\"basics.ipynb\", \"r\") # Let's open this notebook file, \n",
    "                              # which is essentially a text file.\n",
    "                              # So you can open it in a texteditor as well.\n",
    "        \n",
    "for i in range(5):            # And read the first five lines\n",
    "    line = f.readline()\n",
    "    print(\"Line %i: %s\" % (i, line), end=\"\")\n",
    "f.close()"
   ]
  },
  {
   "cell_type": "markdown",
   "metadata": {},
   "source": [
    "It is easy to forget to close the file. One can use a *context manager* to solve this problem. A context manager is created with the `with` statement. After the indented block of the with statements exits, the file will be automatically closed."
   ]
  },
  {
   "cell_type": "code",
   "execution_count": 261,
   "metadata": {},
   "outputs": [
    {
     "name": "stdout",
     "output_type": "stream",
     "text": [
      "Line 0: {\n",
      "Line 1:  \"cells\": [\n",
      "Line 2:   {\n",
      "Line 3:    \"cell_type\": \"markdown\",\n",
      "Line 4:    \"metadata\": {},\n"
     ]
    }
   ],
   "source": [
    "with open(\"basics.ipynb\", \"r\") as f:          # the file will be automatically closed,\n",
    "                                              # when the with block exits\n",
    "    for i in range(5):\n",
    "        line = f.readline()\n",
    "        print(\"Line %i: %s\" % (i, line), end=\"\")"
   ]
  },
  {
   "cell_type": "markdown",
   "metadata": {},
   "source": [
    "The `file` object is iterable. This means that we can iterate through the lines in the file using a for loop, like in the below example:"
   ]
  },
  {
   "cell_type": "code",
   "execution_count": 262,
   "metadata": {},
   "outputs": [
    {
     "name": "stdout",
     "output_type": "stream",
     "text": [
      "The longest line in this file has length 16305\n"
     ]
    }
   ],
   "source": [
    "max_len = 0\n",
    "with open(\"basics.ipynb\", \"r\") as f:\n",
    "    for line in f:    # iterates through all the lines in the file\n",
    "        if len(line) > max_len:\n",
    "            max_len = len(line)\n",
    "print(\"The longest line in this file has length %i\" % max_len)"
   ]
  },
  {
   "cell_type": "markdown",
   "metadata": {},
   "source": [
    "### Standard file objects\n",
    "Python has automatically three file objects open:\n",
    "* `sys.stdin` for *standard input*\n",
    "* `sys.stdout` for *standard output*\n",
    "* `sys.stderr` for *standard error*\n",
    "To read a line from a user (keyboard), you can call `sys.stdin.readline()`. To write a line to a user (screen), call `sys.stdout.write(line)`. The standard error is meant for error messages only, even though its output often goes to the same destination as standard output.\n",
    "\n",
    "The print function uses the file `sys.stdout` and input function uses the file `sys.stdin`. An example of usage:"
   ]
  },
  {
   "cell_type": "code",
   "execution_count": 263,
   "metadata": {},
   "outputs": [
    {
     "name": "stdout",
     "output_type": "stream",
     "text": [
      "Give a positive integer: -2\n"
     ]
    },
    {
     "name": "stderr",
     "output_type": "stream",
     "text": [
      "You gave a negative integer.\n"
     ]
    }
   ],
   "source": [
    "import sys\n",
    "i=int(input(\"Give a positive integer: \"))\n",
    "if i >= 0:\n",
    "    sys.stdout.write(\"You gave a positive integer.\\n\")\n",
    "else:\n",
    "    sys.stderr.write(\"You gave a negative integer.\\n\")"
   ]
  },
  {
   "cell_type": "markdown",
   "metadata": {},
   "source": [
    "These standard file objects are meant to be a basic input/output mechanism in textual form. The destinations of the file objects can be changed to point\n",
    "somewhere else than the usual keyboard and screen. Very often these are redirected to some files. For example, it is usual to point the stderr to a file where all\n",
    "error messages are logged."
   ]
  },
  {
   "cell_type": "markdown",
   "metadata": {},
   "source": [
    "## Objects and classes"
   ]
  },
  {
   "cell_type": "markdown",
   "metadata": {},
   "source": [
    "Python is an object-oriented programming language like Java\n",
    "and C++.\n",
    "But unlike Java, Python doesn’t force you to use classes,\n",
    "inheritance and methods.\n",
    "If you like, you can also choose the structural programming\n",
    "paradigm with functions and modules.\n",
    "\n",
    "Every value in Python is an object.\n",
    "Objects are a way to combine data and the functions that\n",
    "handle that data.\n",
    "This combination is called encapsulation.\n",
    "The data items and functions of objects are called attributes,\n",
    "and in particular the function attributes are called methods.\n",
    "For example, the operator `+` on integers calls a method of\n",
    "integers, and the operator `+` on strings calls a method of\n",
    "strings.\n",
    "\n",
    "Functions, modules, methods, classes, etc are all first class\n",
    "objects. This means that these objects can be\n",
    "* stored in a container\n",
    "* passed to a function as a parameter\n",
    "* returned by a function\n",
    "* bound to a variable\n",
    "\n",
    "One can access an attribute of an object using the *dot\n",
    "operator*: `object.attribute`.\n",
    "For example: if `L` is a list, we can refer to the method `append`\n",
    "with `L.append`. The method call can look, for instance, like\n",
    "this: `L.append(4)`.\n",
    "Because also modules are objects in Python, we can interpret\n",
    "the expression `math.pi` as accessing the data attribute `pi` of\n",
    "module object `math`.\n",
    "\n",
    "Numbers like 2 and 100 are instances of type `int`. Similarly,\n",
    "`\"hello\"` is an instance of type `str`.\n",
    "When we write `s=set()`, we are actually creating a new\n",
    "instance of type `set`, and bind the resulting instance object to\n",
    "`s`.\n",
    "\n",
    "A user can define his own data types.\n",
    "These are called classes.\n",
    "A user can call these classes like they were functions, and they\n",
    "return a new instance object of that type.\n",
    "Classes can be thought as recipes for creating objects.\n",
    "\n",
    "An example of class definition:\n",
    "```python\n",
    "class MyClass(object):\n",
    "    \"\"\"Documentation string of the class\"\"\"\n",
    "\n",
    "    def __init__(self, param1, param2):\n",
    "        \"This initialises an instance of type ClassName\"\n",
    "        self.b = param1 # creates an instance attribute\n",
    "        c = param2      # creates a local variable of the function\n",
    "        # statements ...\n",
    "    \n",
    "    def f(self, param1):\n",
    "        \"\"\"This is a method of the class\"\"\"\n",
    "        # some statements\n",
    "    \n",
    "    a=1 # This creates a class attribute\n",
    "```\n",
    "\n",
    "The class definition starts with the class statement.\n",
    "With this statement you give a name for your new type, and\n",
    "also in parentheses list the base classes of your class.\n",
    "The next indented block is the class body.\n",
    "After the whole class body is read, a new type is created.\n",
    "Note that no instances are created yet.\n",
    "All the attributes and methods of the class are defined in the\n",
    "class body.\n",
    "\n",
    "The example class has two methods: `__init__` and `f`.\n",
    "Note that their first parameter is special: `self`. It\n",
    "corresponds to this variable of C++ or Java.\n",
    "`__init__`\n",
    "does the initialisation when an instance is created.\n",
    "At instantiation with `i=MyClass(2,3)` the parameters\n",
    "`param1` and `param2` are bound to values 2 and 3, respectively.\n",
    "Now that we have an instance `i`, we can call its method `f`\n",
    "with the dot operator: `i.f(1)`.\n",
    "The parameters of `f` are bound in the following way:\n",
    "`self=i` and `param1=1`.\n",
    "\n",
    "There are differences in how an assignment inside a class\n",
    "creates variables.\n",
    "The attribute `a` is at class level and is common for all\n",
    "instances of the class `MyClass`.\n",
    "The variable `c` is a local variable of the function `__init__`, and\n",
    "cannot therefore be used outside the function.\n",
    "The attribute `b` is specific to each instance of `MyClass`. Note\n",
    "that `self` refers to the current instance.\n",
    "An example: for objects `x=MyClass(1,0)` and\n",
    "`y=MyClass(2,0)` we have `x.b != y.b`, but `x.a == y.a`.\n",
    "\n",
    "All methods of a class have a mandatory first parameter which\n",
    "refers to the instance on which you called the method.\n",
    "This parameter is usually named `self`.\n",
    "If you want to access the class attribute `a` from a method of\n",
    "the class, use the fully qualified form `MyClass.a`.\n",
    "The methods whose names both begin and end with two\n",
    "underscores are called *special methods*. For example, `__init__`\n",
    "is a special method. These methods will be discussed in detail\n",
    "later.\n",
    "\n",
    "### Instances\n",
    "\n",
    "We can create instances by calling a class like it were a\n",
    "function: `i = ClassName(...)`.\n",
    "Then parameters given in the call will be passed to the\n",
    "`__init__` function.\n",
    "In the `__init__` method you can create the instance specific\n",
    "attributes.\n",
    "If `__init__` is missing, we can create an instance without\n",
    "giving any parameters. As a consequence, the instance has no\n",
    "attributes.\n",
    "Later you can (re)bind attributes with the assignment\n",
    "`instance.attribute = new value`.\n",
    "\n",
    "If that attribute did not exist before, it will be added to the\n",
    "instance with the assigned value.\n",
    "In Python we really can add or delete attributes to/from an\n",
    "existing instance.\n",
    "This is possible because the attribute names and the\n",
    "corresponding values are actually stored in a dictionary.\n",
    "This dictionary is also an attribute of the instance and is\n",
    "called `dict`.\n",
    "Another standard attribute in addition to dict is called\n",
    "`__class__`. This attribute stores the class of the instance.\n",
    "That is, the type of the object\n",
    "\n",
    "### Attribute lookup\n",
    "\n",
    "Suppose `x` is an instance of class `X`, and we want to read an\n",
    "attribute `x.a`.\n",
    "The lookup has three phases:\n",
    "* First it is checked whether the attribute `a` is an attribute of\n",
    "the instance `x`\n",
    "* If not, then it is checked whether `a` is a class attribute of `x`’s\n",
    "class `X`\n",
    "* If not, then the base classes of `X` are checked\n",
    "\n",
    "If instead we want to bind the attribute `a`, things are much\n",
    "simpler.\n",
    "`x.a = value` will set the instance attribute.\n",
    "And `X.a = value` will set the class attribute.\n",
    "Note that if a base of `X`, the class `X`, and the instance `x` each\n",
    "have an attribute called `a`, then `x.a` hides `X.a`, and `X.a` hides\n",
    "the attribute of the base class.\n"
   ]
  },
  {
   "cell_type": "markdown",
   "metadata": {},
   "source": [
    "### Inheritance\n",
    "\n",
    "Inheritance allows us to reuse the code of an existing class `B`\n",
    "in creating a new class `C`.\n",
    "Let’s recap how the attribute lookup worked for classes.\n",
    "When looking for an attribute, the lookup procedure starts\n",
    "with the instance dictionary, and continues with the class\n",
    "attributes.\n",
    "If both fail, then the attribute is searched from the base\n",
    "classes and, recursively, from their base classes.\n",
    "\n",
    "So, it may look like we access an attribute of a class `C`, when\n",
    "in reality we are accessing the attribute of its base class `B`.\n",
    "In this case we say that the class `C` inherits the attribute from\n",
    "its base class `B`.\n",
    "If we have attributes with the same name in both the class\n",
    "and its base class, the attribute of the base class is hidden.\n",
    "We say that the class `C` overrides the attribute of the base\n",
    "class `B`.\n",
    "Terminology: `B` is a base class and `C` is a derived class.\n",
    "\n",
    "Example:"
   ]
  },
  {
   "cell_type": "code",
   "execution_count": 264,
   "metadata": {},
   "outputs": [
    {
     "name": "stdout",
     "output_type": "stream",
     "text": [
      "Executing B.f\n",
      "Executing C.g\n"
     ]
    }
   ],
   "source": [
    "class B(object):\n",
    "    def f(self):\n",
    "        print(\"Executing B.f\")\n",
    "    def g(self):\n",
    "        print(\"Executing B.g\")\n",
    "    \n",
    "class C(B):\n",
    "    def g(self):\n",
    "        print(\"Executing C.g\")\n",
    "        \n",
    "x=C()\n",
    "x.f() # inherited from B\n",
    "x.g() # overridden by C"
   ]
  },
  {
   "attachments": {
    "inheritance_hierarchy.svg": {
     "image/svg+xml": [
      "PD94bWwgdmVyc2lvbj0iMS4wIiBlbmNvZGluZz0iVVRGLTgiIHN0YW5kYWxvbmU9Im5vIj8+CjxzdmcKICAgeG1sbnM6ZGM9Imh0dHA6Ly9wdXJsLm9yZy9kYy9lbGVtZW50cy8xLjEvIgogICB4bWxuczpjYz0iaHR0cDovL2NyZWF0aXZlY29tbW9ucy5vcmcvbnMjIgogICB4bWxuczpyZGY9Imh0dHA6Ly93d3cudzMub3JnLzE5OTkvMDIvMjItcmRmLXN5bnRheC1ucyMiCiAgIHhtbG5zOnN2Zz0iaHR0cDovL3d3dy53My5vcmcvMjAwMC9zdmciCiAgIHhtbG5zPSJodHRwOi8vd3d3LnczLm9yZy8yMDAwL3N2ZyIKICAgdmlld0JveD0iMCAwIDQzOC42NjY2NiAyODAiCiAgIGhlaWdodD0iMjgwIgogICB3aWR0aD0iNDM4LjY2NjY2IgogICB4bWw6c3BhY2U9InByZXNlcnZlIgogICBpZD0ic3ZnMiIKICAgdmVyc2lvbj0iMS4xIj48bWV0YWRhdGEKICAgICBpZD0ibWV0YWRhdGE4Ij48cmRmOlJERj48Y2M6V29yawogICAgICAgICByZGY6YWJvdXQ9IiI+PGRjOmZvcm1hdD5pbWFnZS9zdmcreG1sPC9kYzpmb3JtYXQ+PGRjOnR5cGUKICAgICAgICAgICByZGY6cmVzb3VyY2U9Imh0dHA6Ly9wdXJsLm9yZy9kYy9kY21pdHlwZS9TdGlsbEltYWdlIiAvPjxkYzp0aXRsZT48L2RjOnRpdGxlPjwvY2M6V29yaz48L3JkZjpSREY+PC9tZXRhZGF0YT48ZGVmcwogICAgIGlkPSJkZWZzNiI+PGNsaXBQYXRoCiAgICAgICBpZD0iY2xpcFBhdGgzMCIKICAgICAgIGNsaXBQYXRoVW5pdHM9InVzZXJTcGFjZU9uVXNlIj48cGF0aAogICAgICAgICBzdHlsZT0iY2xpcC1ydWxlOmV2ZW5vZGQiCiAgICAgICAgIGlkPSJwYXRoMjgiCiAgICAgICAgIGQ9Ik0gMCwyMTAwIFYgMCBoIDMyOTAgdiAyMTAwIHogbSAyMjEzLjcxLC00NjAuMjUgLTE0NC4yNSw4Mi41MSAtMTkuNTIsLTM0LjAxIDE0NC4yNCwtODIuNTIgMC42NCwwLjYzIC01Ni4wNyw1My41NCA3NC45NiwtMjAuNzggeiIgLz48L2NsaXBQYXRoPjxjbGlwUGF0aAogICAgICAgaWQ9ImNsaXBQYXRoNDQiCiAgICAgICBjbGlwUGF0aFVuaXRzPSJ1c2VyU3BhY2VPblVzZSI+PHBhdGgKICAgICAgICAgc3R5bGU9ImNsaXAtcnVsZTpldmVub2RkIgogICAgICAgICBpZD0icGF0aDQyIgogICAgICAgICBkPSJNIDAsMjEwMCBWIDAgaCAzMjkwIHYgMjEwMCB6IG0gODA0LjYyNSwtMTM3MS43MTkgMTIxLjU3LDExNC4wMTIgLTI3LjA4NiwyOC4zNDQgLTEyMC45NDEsLTExNC4wMTIgMC42MzMsLTAuNjI5IDY4LjAyNywzNy43OTMgeiIgLz48L2NsaXBQYXRoPjxjbGlwUGF0aAogICAgICAgaWQ9ImNsaXBQYXRoNTgiCiAgICAgICBjbGlwUGF0aFVuaXRzPSJ1c2VyU3BhY2VPblVzZSI+PHBhdGgKICAgICAgICAgc3R5bGU9ImNsaXAtcnVsZTpldmVub2RkIgogICAgICAgICBpZD0icGF0aDU2IgogICAgICAgICBkPSJNIDAsMjEwMCBWIDAgSCAzMjkwIFYgMjEwMCBaIE0gMTEyMy45OCw3NjMuNTU1IDk5OS44OTUsODc0LjQxOCA5NjcuNzcsODM4LjUxMiBsIDEyNC43MiwtMTEwLjg2IDMuMTUsMy43NzggLTQzLjQ2LDY0LjI1IDY4LjY2LC0zNS45MDMgeiIgLz48L2NsaXBQYXRoPjxjbGlwUGF0aAogICAgICAgaWQ9ImNsaXBQYXRoNzIiCiAgICAgICBjbGlwUGF0aFVuaXRzPSJ1c2VyU3BhY2VPblVzZSI+PHBhdGgKICAgICAgICAgc3R5bGU9ImNsaXAtcnVsZTpldmVub2RkIgogICAgICAgICBpZD0icGF0aDcwIgogICAgICAgICBkPSJNIDAsMjEwMCBWIDAgaCAzMjkwIHYgMjEwMCB6IG0gMTc5Mi4zMSwtNDg0LjE5IDE1MC41NSw3MS4xOCAtMTYuMzgsMzUuMjcgLTE1MC41NSwtNzEuMTcgdiAtMC42NCBsIDc2Ljg1LDE1LjEyIC02MC40NywtNDkuMTMgeiIgLz48L2NsaXBQYXRoPjwvZGVmcz48ZwogICAgIHRyYW5zZm9ybT0ibWF0cml4KDEuMzMzMzMzMywwLDAsLTEuMzMzMzMzMywwLDI4MCkiCiAgICAgaWQ9ImcxMCI+PGcKICAgICAgIHRyYW5zZm9ybT0ic2NhbGUoMC4xKSIKICAgICAgIGlkPSJnMTIiPjxwYXRoCiAgICAgICAgIGlkPSJwYXRoMTQiCiAgICAgICAgIHN0eWxlPSJmaWxsOm5vbmU7c3Ryb2tlOiMwMDAwMDA7c3Ryb2tlLXdpZHRoOjI4LjM0NTUwMDk1O3N0cm9rZS1saW5lY2FwOmJ1dHQ7c3Ryb2tlLWxpbmVqb2luOm1pdGVyO3N0cm9rZS1taXRlcmxpbWl0OjEwO3N0cm9rZS1kYXNoYXJyYXk6bm9uZTtzdHJva2Utb3BhY2l0eToxIgogICAgICAgICBkPSJtIDE1ODYuMzMsMTcwMC4yMSBoIDc2NS4zMjggdiAzNjguNDkyIEggMTU4Ni4zMyBaIiAvPjxwYXRoCiAgICAgICAgIGlkPSJwYXRoMTYiCiAgICAgICAgIHN0eWxlPSJmaWxsOm5vbmU7c3Ryb2tlOiMwMDAwMDA7c3Ryb2tlLXdpZHRoOjI4LjM0NTUwMDk1O3N0cm9rZS1saW5lY2FwOmJ1dHQ7c3Ryb2tlLWxpbmVqb2luOm1pdGVyO3N0cm9rZS1taXRlcmxpbWl0OjEwO3N0cm9rZS1kYXNoYXJyYXk6bm9uZTtzdHJva2Utb3BhY2l0eToxIgogICAgICAgICBkPSJtIDI0OTMuMzksODc4LjE5NSBoIDc2NS4zMjggdiAzNjguNDkyIEggMjQ5My4zOSBaIiAvPjxwYXRoCiAgICAgICAgIGlkPSJwYXRoMTgiCiAgICAgICAgIHN0eWxlPSJmaWxsOm5vbmU7c3Ryb2tlOiMwMDAwMDA7c3Ryb2tlLXdpZHRoOjI4LjM0NTUwMDk1O3N0cm9rZS1saW5lY2FwOmJ1dHQ7c3Ryb2tlLWxpbmVqb2luOm1pdGVyO3N0cm9rZS1taXRlcmxpbWl0OjEwO3N0cm9rZS1kYXNoYXJyYXk6bm9uZTtzdHJva2Utb3BhY2l0eToxIgogICAgICAgICBkPSJtIDUwOS4yMDMsODQ5Ljg1MiBoIDc2NS4zMjggdiAzNjguNDkyIEggNTA5LjIwMyBaIiAvPjxwYXRoCiAgICAgICAgIGlkPSJwYXRoMjAiCiAgICAgICAgIHN0eWxlPSJmaWxsOm5vbmU7c3Ryb2tlOiMwMDAwMDA7c3Ryb2tlLXdpZHRoOjI4LjM0NTUwMDk1O3N0cm9rZS1saW5lY2FwOmJ1dHQ7c3Ryb2tlLWxpbmVqb2luOm1pdGVyO3N0cm9rZS1taXRlcmxpbWl0OjEwO3N0cm9rZS1kYXNoYXJyYXk6bm9uZTtzdHJva2Utb3BhY2l0eToxIgogICAgICAgICBkPSJtIDI3LjMyODEsMjcuODMyIGggNzY1LjMyOCBWIDM5Ni4zMjQgSCAyNy4zMjgxIFoiIC8+PHBhdGgKICAgICAgICAgaWQ9InBhdGgyMiIKICAgICAgICAgc3R5bGU9ImZpbGw6bm9uZTtzdHJva2U6IzAwMDAwMDtzdHJva2Utd2lkdGg6MjguMzQ1NTAwOTU7c3Ryb2tlLWxpbmVjYXA6YnV0dDtzdHJva2UtbGluZWpvaW46bWl0ZXI7c3Ryb2tlLW1pdGVybGltaXQ6MTA7c3Ryb2tlLWRhc2hhcnJheTpub25lO3N0cm9rZS1vcGFjaXR5OjEiCiAgICAgICAgIGQ9Im0gMTE2MS4xNSwyNy44MzIgaCA3NjUuMzI4IFYgMzk2LjMyNCBIIDExNjEuMTUgWiIgLz48ZwogICAgICAgICBpZD0iZzI0Ij48ZwogICAgICAgICAgIGNsaXAtcGF0aD0idXJsKCNjbGlwUGF0aDMwKSIKICAgICAgICAgICBpZD0iZzI2Ij48cGF0aAogICAgICAgICAgICAgaWQ9InBhdGgzMiIKICAgICAgICAgICAgIHN0eWxlPSJmaWxsOm5vbmU7c3Ryb2tlOiMwMDAwMDA7c3Ryb2tlLXdpZHRoOjI4LjM0NTUwMDk1O3N0cm9rZS1saW5lY2FwOmJ1dHQ7c3Ryb2tlLWxpbmVqb2luOm1pdGVyO3N0cm9rZS1taXRlcmxpbWl0OjEwO3N0cm9rZS1kYXNoYXJyYXk6bm9uZTtzdHJva2Utb3BhY2l0eToxIgogICAgICAgICAgICAgZD0ibSAyMDY4LjIsMTcwMC4yMSA3OTMuNjgsLTQ1My41MiIgLz48L2c+PC9nPjxwYXRoCiAgICAgICAgIGlkPSJwYXRoMzQiCiAgICAgICAgIHN0eWxlPSJmaWxsOiMwMDAwMDA7ZmlsbC1vcGFjaXR5OjE7ZmlsbC1ydWxlOmV2ZW5vZGQ7c3Ryb2tlOm5vbmUiCiAgICAgICAgIGQ9Im0gMjIxMy43MSwxNjM5LjEyIC03NC45NiwyMC43OCA1Ni4wNywtNTMuNTQgMTguODksMzIuNzYiIC8+PHBhdGgKICAgICAgICAgaWQ9InBhdGgzNiIKICAgICAgICAgc3R5bGU9ImZpbGw6bm9uZTtzdHJva2U6IzAwMDAwMDtzdHJva2Utd2lkdGg6MzcuNzkzOTk4NzI7c3Ryb2tlLWxpbmVjYXA6YnV0dDtzdHJva2UtbGluZWpvaW46bWl0ZXI7c3Ryb2tlLW1pdGVybGltaXQ6MTA7c3Ryb2tlLWRhc2hhcnJheTpub25lO3N0cm9rZS1vcGFjaXR5OjEiCiAgICAgICAgIGQ9Im0gMjIxMy43MSwxNjM5LjEyIC03NC45NiwyMC43OCA1Ni4wNywtNTMuNTQgeiIgLz48ZwogICAgICAgICBpZD0iZzM4Ij48ZwogICAgICAgICAgIGNsaXAtcGF0aD0idXJsKCNjbGlwUGF0aDQ0KSIKICAgICAgICAgICBpZD0iZzQwIj48cGF0aAogICAgICAgICAgICAgaWQ9InBhdGg0NiIKICAgICAgICAgICAgIHN0eWxlPSJmaWxsOm5vbmU7c3Ryb2tlOiMwMDAwMDA7c3Ryb2tlLXdpZHRoOjI4LjM0NTUwMDk1O3N0cm9rZS1saW5lY2FwOmJ1dHQ7c3Ryb2tlLWxpbmVqb2luOm1pdGVyO3N0cm9rZS1taXRlcmxpbWl0OjEwO3N0cm9rZS1kYXNoYXJyYXk6bm9uZTtzdHJva2Utb3BhY2l0eToxIgogICAgICAgICAgICAgZD0iTSA5MDYuMDM5LDg0OS44NTIgNDI0LjE2NCwzOTYuMzI0IiAvPjwvZz48L2c+PHBhdGgKICAgICAgICAgaWQ9InBhdGg0OCIKICAgICAgICAgc3R5bGU9ImZpbGw6IzAwMDAwMDtmaWxsLW9wYWNpdHk6MTtmaWxsLXJ1bGU6ZXZlbm9kZDtzdHJva2U6bm9uZSIKICAgICAgICAgZD0ibSA4MDQuNjI1LDcyOC4yODEgNDIuMjAzLDY1LjUwOCAtNjguMDI3LC0zNy43OTMgMjUuODI0LC0yNy43MTUiIC8+PHBhdGgKICAgICAgICAgaWQ9InBhdGg1MCIKICAgICAgICAgc3R5bGU9ImZpbGw6bm9uZTtzdHJva2U6IzAwMDAwMDtzdHJva2Utd2lkdGg6MzcuNzkzOTk4NzI7c3Ryb2tlLWxpbmVjYXA6YnV0dDtzdHJva2UtbGluZWpvaW46bWl0ZXI7c3Ryb2tlLW1pdGVybGltaXQ6MTA7c3Ryb2tlLWRhc2hhcnJheTpub25lO3N0cm9rZS1vcGFjaXR5OjEiCiAgICAgICAgIGQ9Im0gODA0LjYyNSw3MjguMjgxIDQyLjIwMyw2NS41MDggLTY4LjAyNywtMzcuNzkzIHoiIC8+PGcKICAgICAgICAgaWQ9Imc1MiI+PGcKICAgICAgICAgICBjbGlwLXBhdGg9InVybCgjY2xpcFBhdGg1OCkiCiAgICAgICAgICAgaWQ9Imc1NCI+PHBhdGgKICAgICAgICAgICAgIGlkPSJwYXRoNjAiCiAgICAgICAgICAgICBzdHlsZT0iZmlsbDpub25lO3N0cm9rZTojMDAwMDAwO3N0cm9rZS13aWR0aDozNy43OTM5OTg3MjtzdHJva2UtbGluZWNhcDpidXR0O3N0cm9rZS1saW5lam9pbjptaXRlcjtzdHJva2UtbWl0ZXJsaW1pdDoxMDtzdHJva2UtZGFzaGFycmF5Om5vbmU7c3Ryb2tlLW9wYWNpdHk6MSIKICAgICAgICAgICAgIGQ9Ik0gOTkxLjA3NCw4NDkuODUyIDE1MDEuMjksMzk2LjMyNCIgLz48L2c+PC9nPjxwYXRoCiAgICAgICAgIGlkPSJwYXRoNjIiCiAgICAgICAgIHN0eWxlPSJmaWxsOiMwMDAwMDA7ZmlsbC1vcGFjaXR5OjE7ZmlsbC1ydWxlOmV2ZW5vZGQ7c3Ryb2tlOm5vbmUiCiAgICAgICAgIGQ9Im0gMTEyMC44NCw3NTkuNzc3IC02OC42NiwzNS45MDMgNDMuNDYsLTY0LjI1IDI1LjIsMjguMzQ3IiAvPjxwYXRoCiAgICAgICAgIGlkPSJwYXRoNjQiCiAgICAgICAgIHN0eWxlPSJmaWxsOm5vbmU7c3Ryb2tlOiMwMDAwMDA7c3Ryb2tlLXdpZHRoOjM3Ljc5Mzk5ODcyO3N0cm9rZS1saW5lY2FwOmJ1dHQ7c3Ryb2tlLWxpbmVqb2luOm1pdGVyO3N0cm9rZS1taXRlcmxpbWl0OjEwO3N0cm9rZS1kYXNoYXJyYXk6bm9uZTtzdHJva2Utb3BhY2l0eToxIgogICAgICAgICBkPSJtIDExMjAuODQsNzU5Ljc3NyAtNjguNjYsMzUuOTAzIDQzLjQ2LC02NC4yNSB6IiAvPjxnCiAgICAgICAgIGlkPSJnNjYiPjxnCiAgICAgICAgICAgY2xpcC1wYXRoPSJ1cmwoI2NsaXBQYXRoNzIpIgogICAgICAgICAgIGlkPSJnNjgiPjxwYXRoCiAgICAgICAgICAgICBpZD0icGF0aDc0IgogICAgICAgICAgICAgc3R5bGU9ImZpbGw6bm9uZTtzdHJva2U6IzAwMDAwMDtzdHJva2Utd2lkdGg6MjguMzQ1NTAwOTU7c3Ryb2tlLWxpbmVjYXA6YnV0dDtzdHJva2UtbGluZWpvaW46bWl0ZXI7c3Ryb2tlLW1pdGVybGltaXQ6MTA7c3Ryb2tlLWRhc2hhcnJheTpub25lO3N0cm9rZS1vcGFjaXR5OjEiCiAgICAgICAgICAgICBkPSJNIDE5MjYuNDgsMTcwMC4yMSA5MDYuMDM5LDEyMTguMzQiIC8+PC9nPjwvZz48cGF0aAogICAgICAgICBpZD0icGF0aDc2IgogICAgICAgICBzdHlsZT0iZmlsbDojMDAwMDAwO2ZpbGwtb3BhY2l0eToxO2ZpbGwtcnVsZTpldmVub2RkO3N0cm9rZTpub25lIgogICAgICAgICBkPSJtIDE3OTIuMzEsMTYxNi40NCA2MC40Nyw0OS4xMyAtNzYuODUsLTE1LjEyIDE2LjM4LC0zNC4wMSIgLz48cGF0aAogICAgICAgICBpZD0icGF0aDc4IgogICAgICAgICBzdHlsZT0iZmlsbDpub25lO3N0cm9rZTojMDAwMDAwO3N0cm9rZS13aWR0aDozNy43OTM5OTg3MjtzdHJva2UtbGluZWNhcDpidXR0O3N0cm9rZS1saW5lam9pbjptaXRlcjtzdHJva2UtbWl0ZXJsaW1pdDoxMDtzdHJva2UtZGFzaGFycmF5Om5vbmU7c3Ryb2tlLW9wYWNpdHk6MSIKICAgICAgICAgZD0ibSAxNzkyLjMxLDE2MTYuNDQgNjAuNDcsNDkuMTMgLTc2Ljg1LC0xNS4xMiB6IiAvPjxnCiAgICAgICAgIHRyYW5zZm9ybT0ic2NhbGUoMTApIgogICAgICAgICBpZD0iZzgwIj48dGV4dAogICAgICAgICAgIGlkPSJ0ZXh0OTIiCiAgICAgICAgICAgc3R5bGU9ImZvbnQtdmFyaWFudDpub3JtYWw7Zm9udC13ZWlnaHQ6bm9ybWFsO2ZvbnQtc2l6ZToxOS45OTkzcHg7Zm9udC1mYW1pbHk6J1RpbWVzIE5ldyBSb21hbic7LWlua3NjYXBlLWZvbnQtc3BlY2lmaWNhdGlvbjpUaW1lcy1Sb21hbjt3cml0aW5nLW1vZGU6bHItdGI7ZmlsbDojMDAwMDAwO2ZpbGwtb3BhY2l0eToxO2ZpbGwtcnVsZTpub256ZXJvO3N0cm9rZTpub25lIgogICAgICAgICAgIHRyYW5zZm9ybT0ibWF0cml4KDEsMCwwLC0xLDMzLjkxMjksMTQuMTIxNSkiPjx0c3BhbgogICAgICAgICAgICAgaWQ9InRzcGFuODIiCiAgICAgICAgICAgICB5PSIwIgogICAgICAgICAgICAgeD0iMCI+QzwvdHNwYW4+PHRzcGFuCiAgICAgICAgICAgICBpZD0idHNwYW44NCIKICAgICAgICAgICAgIHk9Ii04NS4wMzYzMDEiCiAgICAgICAgICAgICB4PSI0OC4xODc1Ij5CPC90c3Bhbj48dHNwYW4KICAgICAgICAgICAgIGlkPSJ0c3Bhbjg2IgogICAgICAgICAgICAgeT0iMCIKICAgICAgICAgICAgIHg9IjExMy4zODIiPkQ8L3RzcGFuPjx0c3BhbgogICAgICAgICAgICAgaWQ9InRzcGFuODgiCiAgICAgICAgICAgICB5PSItODUuMDM2MzAxIgogICAgICAgICAgICAgeD0iMjQ2LjYwNiI+RTwvdHNwYW4+PHRzcGFuCiAgICAgICAgICAgICBpZD0idHNwYW45MCIKICAgICAgICAgICAgIHk9Ii0xNjcuMjM4MyIKICAgICAgICAgICAgIHg9IjEzMy4yMjQgMTQzLjIyMzY1IDE1My4yMjMzIDE1OC43ODMxMSAxNjcuNjYyOCAxNzYuNTQyNDgiPm9iamVjdDwvdHNwYW4+PC90ZXh0Pgo8L2c+PC9nPjwvZz48L3N2Zz4="
     ]
    }
   },
   "cell_type": "markdown",
   "metadata": {},
   "source": [
    "A derived class is sometimes also called a *subclass* and the\n",
    "base class is called *super class*.\n",
    "The inheritance relation of two classes `B` and `C` can be tested\n",
    "with function `issubclass`:\n",
    "`issubclass(C,B)==True` but `issubclass(B,C)==False`\n",
    "Function `isinstance(obj, cls)` allows us to test whether\n",
    "an instance has type `cls` or has an ancestor class of type `cls`.\n",
    "Let’s create instances `x=C()` and `y=B()`.\n",
    "Now we have `isinstance(x,B)==\n",
    "isinstance(x,C)==isinstance(y,B)==True`.\n",
    "But `isinstance(y,C)==False`.\n",
    "\n",
    "![inheritance_hierarchy.svg](attachment:inheritance_hierarchy.svg)\n",
    "\n",
    "`object` should be a base class or an ancestor class of every\n",
    "other class.\n",
    "This means that `isinstance(x, object)==True` for all\n",
    "instances `x`.\n",
    "\n",
    "By deriving from an existing class we can modify and/or\n",
    "extend its behaviour, without touching the original class.\n",
    "For example, if we want to add one method to a list class,\n",
    "we can use inheritance. Therefore we have to only code the\n",
    "part that has changed and reuse the rest of the code of type\n",
    "list.\n",
    "Another use of inheritance is to create conceptual hierarchies.\n",
    "For instance, later we will learn about the exception hierarchy\n",
    "of Python.\n",
    "Third use would be to use classes to create interfaces. There\n",
    "can be several classes that have same interface (that is, they\n",
    "offer the same attributes), but their behaviour or\n",
    "implementation can be very different. This allows changing a\n",
    "part of your program with minimal changes required elsewhere\n",
    "in the code.\n",
    "\n",
    "If in the definition of the method `C.f` we need to call the\n",
    "corresponding method of class `A`, we can use the fully qualified\n",
    "call `A.f(...)`.\n",
    "This is called delegation.\n",
    "It is useful, for instance, when you want to call the init\n",
    "method of the base class from the init of the derived\n",
    "class to initialise the base class attributes."
   ]
  },
  {
   "cell_type": "markdown",
   "metadata": {},
   "source": [
    "### Special methods\n",
    "\n",
    "We have already encountered one special method, namely the\n",
    "`__init__` method.\n",
    "This method sets the instance attributes to some initial value.\n",
    "Its first parameter is `self`, and the subsequent parameters\n",
    "are the ones that were passed to the call of the class.\n",
    "The `__init__` method should return no value.\n",
    "In the following slides the main general purpose special\n",
    "methods are introduced.\n",
    "They are executed when certain operations on objects are\n",
    "performed.\n",
    "\n",
    "In the following, `C` is a class and `x` and `y` are its instances.\n",
    "`__hash__` returns an int value, with the following\n",
    "requirement: `x==y` implies `x.__hash__() == y.__hash__()`.\n",
    "The value is used in storing objects in dictionaries and sets.\n",
    "The instances `x` and `y` must be immutable\n",
    "A class with `__call__` method makes its instances callable.\n",
    "I.e. the call `x(a,b, ...)` will result in calling this special\n",
    "method with the given parameters.\n",
    "The method `__del__` gets called when the corresponding\n",
    "instance gets deleted.\n",
    "Method `__new__` is used to control the creation of new\n",
    "instances. It can be used, for example, to create classes that\n",
    "have only one instance.\n",
    "\n",
    "The method `__str__` is called when the print statement needs\n",
    "to print the value of an instance. It returns a string. The\n",
    "print-format expression calls this for conversion `%s`.\n",
    "The method `__repr__` is called when the interactive interpreter\n",
    "prints the value of an evaluated expression, and when the\n",
    "conversion `%r` for print-format expression is used. Returns a\n",
    "canonical representation string that (at least in theory) can be\n",
    "used to recreate the original object.\n",
    "Special methods `__eq__`, `__ge__`, `__gt__`, `__le__`, `__lt__`, and\n",
    "`__ne__` get called when the corresponding operators `x==y`,\n",
    "`x>=y`, `x>y`, `x<=y`, `x<y`, and `x!=y` are used.\n",
    "\n",
    "If you want the instances of your class to support the numeric\n",
    "operations (like +, -, *, /, etc), you must define a set of\n",
    "special methods in you class.\n",
    "For example, the expression x+y will result in a call\n",
    "x. add (y) which should return the result of the operation.\n",
    "Here are a few of the most common numerical special\n",
    "methods:\n",
    "\n",
    "|Method|Description|\n",
    "|---|------------|\n",
    "|`__add__` | addition (+) |\n",
    "|`__sub__` | subtraction (-) |\n",
    "|`__mul__` | multiplication (*) |\n",
    "|`__div__` | division (/) |\n",
    "-----------------------\n",
    "\n",
    "The corresponding augmented assignments += -= *= /=\n",
    "have special methods iadd , isub , imul , idiv.\n",
    "The conversion functions complex(), float(), int() and\n",
    "long() call the following special methods:\n",
    "\n",
    "|Method|Description|\n",
    "|------|-----------|\n",
    "|`__complex__` | convert to a complex number|\n",
    "|`__float__` | convert to a float|\n",
    "|`__int__` | convert to an integer|\n",
    "\n",
    "In addition to the normal methods of containers, like the\n",
    "append method of the list, there are several operations that\n",
    "are handled by calls to special methods of the container class.\n",
    "The test whether `x` is a member of container `c` is done by the\n",
    "operation `x in c`. The corresponding special method call is\n",
    "`x.__contains__(y)`.\n",
    "Deletion of an element of container `c` can be done with the\n",
    "operation `del c[key]`. This will result in the method call\n",
    "`x.__delitem__`.\n",
    "\n",
    "Reading an item of a container `c` is done with the operation\n",
    "`c[key]`. The corresponding method call is\n",
    "`c.__getitem__(key)`.\n",
    "Similarly, setting an item with `c[key]=value` results in the\n",
    "call `c.__setitem__(key,value)`.\n",
    "The number of elements in a container `c` can be queried with\n",
    "the function call `len(c)`. This function call actually calls the\n",
    "special method `c.__len__`.\n",
    "The call `iter(c)` will call the special method `__iter__`. More\n",
    "about the purpose of this function in the next few slides.\n"
   ]
  },
  {
   "cell_type": "markdown",
   "metadata": {},
   "source": [
    "## Exceptions"
   ]
  },
  {
   "cell_type": "markdown",
   "metadata": {},
   "source": [
    "When an error occurs, what can we do?\n",
    "\n",
    "* Print an error message\n",
    "* Stop the execution of a program\n",
    "* Indicate the error by returning a special value, like -1 or None\n",
    "* Ignore the error\n",
    "* ...\n",
    "\n",
    "These solutions tend to combine the indication of a problem\n",
    "and the reaction to the problem indication.\n",
    "The behaviour of the program in error situations cannot the\n",
    "changed, they are fixed in the implementation of the function.\n",
    "When an erroneous situation is noticed, it may not be clear\n",
    "how to handle the situation.\n",
    "Usually the user or an instance that called a function knows\n",
    "what to do.\n",
    "\n",
    "Most modern computer languages have a system called\n",
    "exception handling. This system separates the recognition of errors and the\n",
    "handling of these situations. We can signal an error or anomalous situation by raising an\n",
    "exception. Exceptions can be raised in Python with the `raise` statement:\n",
    "\n",
    "* `raise` instance\n",
    "* `raise` exception class [, expression]\n",
    "\n",
    "In the second form, if the expression exists, it is a tuple of\n",
    "parameters given to exception class.\n",
    "\n",
    "The functions of the Python standard library raise exceptions\n",
    "in error situations. Sometimes exceptions aren’t really errors. For example, when\n",
    "an iterator runs out of elements, it will signal this by raising\n",
    "the `StopIteration` exception.\n",
    "Another less erroneus exception is the `Warning` exception.\n",
    "\n",
    "The general form of exception catching statement is the following:"
   ]
  },
  {
   "cell_type": "markdown",
   "metadata": {},
   "source": [
    "```\n",
    "try:\n",
    "    # here are the statements that can cause exceptions\n",
    "except (Exceptionname1, Exceptionname2, ...):\n",
    "    # here we handle the exceptions\n",
    "else:\n",
    "    # this gets executed if try-block caused no exceptions\n",
    "finally:\n",
    "    # this is always executed, clean-up code\n",
    "```\n",
    "\n",
    "Usually, just the try and except parts are needed."
   ]
  },
  {
   "cell_type": "code",
   "execution_count": 265,
   "metadata": {},
   "outputs": [
    {
     "name": "stdout",
     "output_type": "stream",
     "text": [
      "Index does not exist\n"
     ]
    }
   ],
   "source": [
    "L=[1,2,3]\n",
    "try:\n",
    "    print(L[3])\n",
    "except IndexError:\n",
    "    print(\"Index does not exist\")"
   ]
  },
  {
   "cell_type": "code",
   "execution_count": 266,
   "metadata": {
    "scrolled": true
   },
   "outputs": [
    {
     "name": "stdout",
     "output_type": "stream",
     "text": [
      "Give a number (non-number quits): 12\n",
      "Give a number (non-number quits): -1\n",
      "Give a number (non-number quits): \n",
      "Average is 5.5\n"
     ]
    }
   ],
   "source": [
    "def compute_average(L):\n",
    "    n=len(L)\n",
    "    s=sum(L)\n",
    "    return float(s)/n # error is noticed here !!!\n",
    "mylist=[]\n",
    "while True:\n",
    "    try:\n",
    "        x=float(input(\"Give a number (non-number quits): \"))\n",
    "        mylist.append(x)\n",
    "    except ValueError:\n",
    "        break\n",
    "try:\n",
    "    average=compute_average(mylist)\n",
    "    print(\"Average is\", average)\n",
    "except ZeroDivisionError:\n",
    "    # and the error is handled here\n",
    "    if len(mylist) == 0:\n",
    "        print(\"Tried to compute the average of empty list of numbers\")\n",
    "    else:\n",
    "        print(\"Something strange happened\")"
   ]
  },
  {
   "cell_type": "markdown",
   "metadata": {},
   "source": [
    "### Exception hierarchy"
   ]
  },
  {
   "cell_type": "markdown",
   "metadata": {},
   "source": [
    "In Python exceptions are objects, like all values in Python.\n",
    "These objects are instantiated from exception classes.\n",
    "Exception classes form naturally hierarchies:\n",
    "* New exception classes can be made by inheriting from existing exception classes and extending them\n",
    "* The root of this hierarchy is the class Exception\n",
    "* Python defines several base classes to derive from, and several ready-to-use exception classes"
   ]
  },
  {
   "cell_type": "markdown",
   "metadata": {},
   "source": [
    "<img src=\"exception_hierarchy.svg\" />"
   ]
  },
  {
   "cell_type": "markdown",
   "metadata": {},
   "source": [
    "### Too general exception specifications"
   ]
  },
  {
   "cell_type": "markdown",
   "metadata": {},
   "source": [
    "The exception hierarchy allows to catch multiple similar\n",
    "exceptions by catching their common base class.\n",
    "This feature has to be used carefully. Over-general exception\n",
    "specification, like `except Exception:`, can hide the real\n",
    "reason for an error. Example of this:"
   ]
  },
  {
   "cell_type": "code",
   "execution_count": 267,
   "metadata": {},
   "outputs": [
    {
     "name": "stdout",
     "output_type": "stream",
     "text": [
      "Give a number: 12\n",
      "You didn’t enter a number\n"
     ]
    }
   ],
   "source": [
    "import sys\n",
    "s=input(\"Give a number: \")\n",
    "s=s[:-1] # strip the \\n character from the end\n",
    "try:\n",
    "    x=int(s)\n",
    "    sys.stdout.wr1te(\"You entered %d\\n\" % x)\n",
    "except Exception:\n",
    "    print(\"You didn’t enter a number\")"
   ]
  },
  {
   "cell_type": "markdown",
   "metadata": {},
   "source": [
    "In the previous example, if the user doesn’t enter a string that\n",
    "represents an integer, a `ValueError` is raised by the int\n",
    "function. Instead of catching the `ValueError`, we catch the root of the\n",
    "exception hierarchy, namely `Exception`. This results in catching all possible exceptions.\n",
    "But this will cause one typing error in the program to go undetected.\n",
    "Change the exception specification from `Exception` to `ValueError` to see what this error is."
   ]
  },
  {
   "cell_type": "markdown",
   "metadata": {},
   "source": [
    "### What is the error handling policy in Python"
   ]
  },
  {
   "cell_type": "markdown",
   "metadata": {},
   "source": [
    "Python uses a different approach to error checking than many\n",
    "other common languages.\n",
    "Instead of trying to beforehand check that all the inputs are of\n",
    "correct type and then contents of input variables are sensible\n",
    "for some operations, Python first tries the operations and then\n",
    "checks whether they caused any exceptions.\n",
    "This is partly what duck typing is about: a function works for\n",
    "a set of inputs if all the operations in the function body make\n",
    "sense for those inputs.\n",
    "So, that’s why the parameters of functions aren’t specified to\n",
    "be of any certain type."
   ]
  },
  {
   "cell_type": "markdown",
   "metadata": {},
   "source": [
    "## Modules"
   ]
  },
  {
   "attachments": {
    "package.svg": {
     "image/svg+xml": [
      "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"
     ]
    }
   },
   "cell_type": "markdown",
   "metadata": {},
   "source": [
    "To ease management of large programs, software is divided\n",
    "into smaller pieces. In Python these pieces are called *modules*.\n",
    "A module should be a unit that is as independent from other\n",
    "modules as possible.\n",
    "Each file in Python corresponds to a module.\n",
    "Modules can contain classes, objects, functions, ...\n",
    "For example, functions to handle regular expressions are in\n",
    "module `re`\n",
    "\n",
    "The standard library of Python consists of hundreds of\n",
    "modules. Some of the most common standard modules include\n",
    "* `re`\n",
    "* `math`\n",
    "* `random`\n",
    "* `os`\n",
    "* `sys`\n",
    "Any file with extension `.py` that contains Python source code\n",
    "is a module. So, no special notation is needed to create a module.\n",
    "\n",
    "### Using modules\n",
    "\n",
    "Let’s say that we need to use the cosine function.\n",
    "This function, and many other mathematical functions are\n",
    "located in the `math` module.\n",
    "To tell Python that we want to access the features offered by\n",
    "this module, we can give the statement `import math`.\n",
    "Now the module is loaded into memory.\n",
    "We can now call the function like this:\n",
    "```python\n",
    "math.cos(0)\n",
    "1.0\n",
    "```\n",
    "\n",
    "Note that we need to include the module name where the `cos`\n",
    "function is found.\n",
    "This is because other modules may have a function (or other\n",
    "attribute of a module) with the same name.\n",
    "This usage of different namespace for each module prevents\n",
    "name clashes. For example, `gzip.open`, `os.open` are not to be confused\n",
    "with the builtin `open` function.\n",
    "\n",
    "### Breaking the namespace\n",
    "\n",
    "If the cosine is needed a lot, then it might be tedious to\n",
    "always specify the namespace, especially if the name of the\n",
    "namespace/module is long.\n",
    "For these cases there is another way of importing modules.\n",
    "Bring a name to the current scope with\n",
    "`from math import cos` statement.\n",
    "Now we can used it without the namespace specifier: `cos(1)`.\n",
    "\n",
    "Several names can be imported to the current scope with\n",
    "from `math import name1, name2, ...`\n",
    "Or even all names of the module with `from math import *`\n",
    "The last form is sensible only in few cases, normally it just\n",
    "confuses things since the user may have no idea what names\n",
    "will be imported.\n",
    "\n",
    "### Module lookup\n",
    "\n",
    "When we try to import a module mod with the import\n",
    "statement, the lookup proceeds in the following order:\n",
    "* Check if it is a builtin module\n",
    "* Check if the file `mod.py` is found in any of the directories in\n",
    "the list `sys.path`. The first item in this list is the current\n",
    "directory\n",
    "* When Python is started, the `sys.path` list is initialised with\n",
    "the contents of the `PYTHONPATH` environment variable\n",
    "\n",
    "### Module hierarchy\n",
    "\n",
    "The standard library contains hundreds of modules.\n",
    "Hence, it is hard to comprehend what the library includes.\n",
    "The modules therefore need to be organised somehow.\n",
    "In Python the modules can be organised into hierarchies using\n",
    "packages.\n",
    "A package is a module that can contain other packages and\n",
    "modules.\n",
    "For example, the `numpy` package contains subpackages core,\n",
    "distutils, f2py, fft, lib, linalg, ma, numarray, oldnumeric,\n",
    "random, and testing.\n",
    "And package `numpy.linalg` in turn contains modules `linalg`,\n",
    "`lapack_lite` and `info`.\n",
    "\n",
    "### Importing from packages\n",
    "\n",
    "The statement `import numpy` imports the top-level package `numpy`\n",
    "but not its subpackages:\n",
    "\n",
    "* `import numpy.linalg` imports the subpackage, and\n",
    "* `import numpy.linalg.linalg` imports the module only\n",
    "\n",
    "If we want to skip the long namespace specification, we can\n",
    "use the form\n",
    "\n",
    "```python\n",
    "from numpy.linalg import linalg\n",
    "```\n",
    "\n",
    "or\n",
    "\n",
    "```python\n",
    "from numpy.linalg import linalg as lin\n",
    "```\n",
    "\n",
    "if we want to use a different name for the module. The following command imports the function `det` (computes the determinant of a matrix) from the module linalg, which is contained in a subpackage linalg, which belongs to package numpy:\n",
    "```python\n",
    "from numpy.linalg.linalg import det\n",
    "```\n",
    "\n",
    "PIIRRÄ KUVA YLLÄOLEVASTA.\n",
    "\n",
    "### Correspondence between folder and module hierarchies\n",
    "\n",
    "The packages are represented by folders in the filesystem.\n",
    "The folder should contain a file named `__init__.py` that\n",
    "makes up the package body. This handles the initialisation of\n",
    "the package.\n",
    "The directory may contain also further directories\n",
    "(subpackages) or Python files (normal modules).\n",
    "\n",
    "```\n",
    "a/\n",
    "    __init__.py\n",
    "    b.py\n",
    "    c/\n",
    "        __init__.py\n",
    "        d.py\n",
    "        e.py\n",
    "```\n",
    "![package.svg](attachment:package.svg)\n",
    "\n",
    "### Contents of a module\n",
    "\n",
    "Suppose we have a module named `mod.py`.\n",
    "All the assignments, class definitions with the `class` statement,\n",
    "and function definitions with `def` statement will create new\n",
    "attributes to this module.\n",
    "Let’s import this module from another Python file using the\n",
    "`import mod` statement.\n",
    "After the import we can access the attributes of the module\n",
    "object using the normal dot notation: `mod.f()`,\n",
    "`mod.myclass()`, `mod.a`, etc.\n",
    "Note that Python doesn’t really have global variables that are\n",
    "visible to all modules. All variables belong to some module\n",
    "namespace.\n",
    "\n",
    "Just like other objects, the module object contains its\n",
    "attributes in the dictionary `modulename.__dict__`\n",
    "Usually a module contains at least the attributes name and\n",
    "file . Other common attributes are `__version__`,\n",
    "`__author__` and `__doc__` , which contains the docstring of the\n",
    "module.\n",
    "If the first statement of a file is a string, this is taken as the\n",
    "docstring of that module.\n",
    "The attribute `__file__` is always the filename of the module.\n",
    "\n",
    "The module attribute `__name__` has value `“__main__”` if we in are the main program,\n",
    "otherwise some other module has imported us and name\n",
    "equals `__file__`."
   ]
  },
  {
   "cell_type": "markdown",
   "metadata": {},
   "source": [
    "<pre>\n",
    "\n",
    "\n",
    "</pre>"
   ]
  }
 ],
 "metadata": {
  "kernelspec": {
   "display_name": "Python 3",
   "language": "python",
   "name": "python3"
  },
  "language_info": {
   "codemirror_mode": {
    "name": "ipython",
    "version": 3
   },
   "file_extension": ".py",
   "mimetype": "text/x-python",
   "name": "python",
   "nbconvert_exporter": "python",
   "pygments_lexer": "ipython3",
   "version": "3.6.5"
  }
 },
 "nbformat": 4,
 "nbformat_minor": 2
}
