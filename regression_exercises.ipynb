{
 "cells": [
  {
   "cell_type": "markdown",
   "metadata": {},
   "source": [
    "# Regression exercises"
   ]
  },
  {
   "cell_type": "markdown",
   "metadata": {},
   "source": [
    "#### Exercise 1 (linear regression)\n",
    "Write a function `fit line` that gets one dimensional arrays `x` and `y` as parameters. The function should return the tuple `(slope, intercept)` of the fitted line. Write a main program that tests the `fit_line` function with some example arrays. The main function should produce output in the following form:\n",
    "\n",
    "Slope: 1.0<br/>\n",
    "Intercept: 1.16666666667\n",
    "\n",
    "Part 2.\n",
    "\n",
    "Modify your program to plot the fitted line using matplotlib, in addition to the textual output. Plot also the original data points.\n"
   ]
  },
  {
   "cell_type": "markdown",
   "metadata": {},
   "source": [
    "#### Exercise 2 (mystery data)\n",
    "Read the tab separated file mystery_data.tsv. Its first five columns define the features, and the last column is the response. Use scikit-learns's LinearRegression to fit this data. Implement function `mystery_data` that reads this file and learns and returns the regression coefficients for the five features. You don't have to fit the intercept. The main method will print output in the following form:\n",
    "\n",
    "Coefficient of X1 is ...<br/>\n",
    "Coefficient of X2 is ...<br/>\n",
    "Coefficient of X3 is ...<br/>\n",
    "Coefficient of X4 is ...<br/>\n",
    "Coefficient of X5 is ...\n",
    "\n",
    "Which features you think are needed to explain the response Y?"
   ]
  },
  {
   "cell_type": "markdown",
   "metadata": {},
   "source": [
    "#### Exercise 3 (coefficient of determination)\n",
    "Using the same data as in the previous exercise, instead of printing the regression coefficients, print the coefficient of determination. The coefficient of determination, denoted by R2, tells how well the linear regression fits the data. The maximum value of the coefficient of determination is 1. That means the best possible fit.\n",
    "\n",
    "Part 1.\n",
    "\n",
    "Using all the features (X1 to X5), fit the data using a linear regression. Get the coefficient of determination using the `score` method of the `LinearRegression` class. Write a function `coefficient_of_determination` to do all this. It should return a list containing the R2-score as the only value.\n",
    "\n",
    "Part 2.\n",
    "\n",
    "Extend your function so that it also returns R2-scores related to linear regression with each single feature in turn. The `coefficient_of_determination` (https://en.wikipedia.org/wiki/Coefficient_of_determination) function should therefore return a list with six R2-scores. To achieve this, your function should call both the fit method and the score method six times. \n",
    "\n",
    "The output from the main method should look like this:\n",
    "R2-score with feature(s) X: ...\n",
    "R2-score with feature(s) X1: ...\n",
    "R2-score with feature(s) X2: ...\n",
    "R2-score with feature(s) X3: ...\n",
    "R2-score with feature(s) X4: ...\n",
    "R2-score with feature(s) X5: ...\n",
    "\n",
    "How small can the R2-score be? Experiment both with fitting the intercept and without fitting the intercept."
   ]
  }
 ],
 "metadata": {
  "kernelspec": {
   "display_name": "Python 3",
   "language": "python",
   "name": "python3"
  },
  "language_info": {
   "codemirror_mode": {
    "name": "ipython",
    "version": 3
   },
   "file_extension": ".py",
   "mimetype": "text/x-python",
   "name": "python",
   "nbconvert_exporter": "python",
   "pygments_lexer": "ipython3",
   "version": "3.6.5"
  }
 },
 "nbformat": 4,
 "nbformat_minor": 2
}
